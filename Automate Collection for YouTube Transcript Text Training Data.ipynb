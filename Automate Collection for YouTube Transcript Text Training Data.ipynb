{
 "cells": [
  {
   "cell_type": "markdown",
   "metadata": {},
   "source": [
    "## Data Source: My 7 Stars Mastery Play List (100 Wisdom Vault Videos):\n",
    "### [https://www.youtube.com/playlist?list=PLfWD4jzkXPJ-NKmj-LuVJoXrqxqYpuoNW](https://www.youtube.com/playlist?list=PLfWD4jzkXPJ-NKmj-LuVJoXrqxqYpuoNW)\n"
   ]
  },
  {
   "cell_type": "markdown",
   "metadata": {},
   "source": [
    "### Tutorial Resources\n",
    "* https://alexwlchan.net/2019/04/getting-a-transcript-of-a-talk-from-youtube/\n",
    "* https://pypi.org/project/youtube-transcript-api/\n",
    "\n",
    "#### Keras Tensorflow TextGen\n",
    "* https://towardsdatascience.com/simple-text-generation-d1c93f43f340"
   ]
  },
  {
   "cell_type": "markdown",
   "metadata": {},
   "source": [
    "### *TODO*\n",
    "1. *Automate 100 Videos List*\n",
    "2. *Automatic Grammar Correction Training Data*\n",
    "3. *Create 10x Times More Training Data 10K Enrichen Vocabulary Variety to Training Data*\n",
    "4. Add Automated Data Engineers Features Summary , Video Title, Translations Languages"
   ]
  },
  {
   "cell_type": "markdown",
   "metadata": {},
   "source": [
    "### Install Youtube Transcript API\n",
    "#### *Retrieve Transcript Text Given ID for Youtube Video*"
   ]
  },
  {
   "cell_type": "markdown",
   "metadata": {},
   "source": [
    "`!pip install youtube_transcript_api`"
   ]
  },
  {
   "cell_type": "code",
   "execution_count": 15,
   "metadata": {},
   "outputs": [
    {
     "name": "stdout",
     "output_type": "stream",
     "text": [
      "/home/kevin/gh/programmingbitcoin/.venv/bin/pip\r\n"
     ]
    }
   ],
   "source": [
    "!which pip"
   ]
  },
  {
   "cell_type": "markdown",
   "metadata": {},
   "source": [
    "#### Test Example Video\n",
    "###### *No Transcript*\n",
    "Title: \"Dan Lok 9 Books Every Aspiring Millionaire Should Read\"\n",
    "###### *With Transcript*\n",
    "Title: \"5 Skills To Learn During Lockdown\"\n",
    "\n",
    "###### `https://www.youtube.com/watch?v=oRkvO6RWVtg&list=PLfWD4jzkXPJ-NKmj-LuVJoXrqxqYpuoNW&index=24`\n",
    "\n",
    "###### `https://www.youtube.com/watch?v=oRkvO6RWVtg`"
   ]
  },
  {
   "cell_type": "code",
   "execution_count": 16,
   "metadata": {},
   "outputs": [
    {
     "name": "stderr",
     "output_type": "stream",
     "text": [
      "/home/kevin/gh/programmingbitcoin/.venv/lib/python3.5/site-packages/IPython/core/display.py:689: UserWarning: Consider using IPython.display.IFrame instead\n",
      "  warnings.warn(\"Consider using IPython.display.IFrame instead\")\n"
     ]
    },
    {
     "data": {
      "text/html": [
       "<iframe width=\"560\" height=\"315\" src=\"https://www.youtube.com/embed/oRkvO6RWVtg\" frameborder=\"0\" allow=\"accelerometer; autoplay; encrypted-media; gyroscope; picture-in-picture\" allowfullscreen></iframe>"
      ],
      "text/plain": [
       "<IPython.core.display.HTML object>"
      ]
     },
     "metadata": {},
     "output_type": "display_data"
    }
   ],
   "source": [
    "from IPython.core.display import display, HTML\n",
    "display(HTML('<iframe width=\"560\" height=\"315\" src=\"https://www.youtube.com/embed/oRkvO6RWVtg\" frameborder=\"0\" allow=\"accelerometer; autoplay; encrypted-media; gyroscope; picture-in-picture\" allowfullscreen></iframe>'))\n"
   ]
  },
  {
   "cell_type": "code",
   "execution_count": 17,
   "metadata": {},
   "outputs": [],
   "source": [
    "video_id = 'oRkvO6RWVtg'"
   ]
  },
  {
   "cell_type": "code",
   "execution_count": 18,
   "metadata": {},
   "outputs": [
    {
     "name": "stdout",
     "output_type": "stream",
     "text": [
      "0 - Five skills that you\n",
      "should learn during lockdown.Now you have a choice during lockdownand during the Coronavirus,\n",
      "and we are all stuck, right,we are staying home, and now\n",
      "you have a lot more free time.Now could choose to waste that free time,or you could choose to invest that timeto do something productive.And I think one of the\n",
      "most productive thingsthat you could do is\n",
      "actually to learn a skillset.Because when this is over,when this thing is over,\n",
      "and it will be over,it is only a matter of time,the world will start spinning again.What are you gonna do, right.Maybe you're a little bit concerned,maybe you have\n",
      "unfortunately lost your job.But when things get back to normal,you will go out there and get a new job.Are you ready, are you prepared?Because things are different now.Things have changed.Industries have changed.The world has changed.So are you ready, are you preparedto go after that new opportunity?Or maybe go after that other\n",
      "job that you've always wanted.Or maybe go for that new promotion,or go start that new business.Whatever you want to do after this crisis,what would allow you to\n",
      "do a lot of those things,are your skills.I believe during this lockdown,some of the most valuable\n",
      "skills that you could develop,that you could learn,\n",
      "meet these four criteria:Number one, a skillset that\n",
      "has an immediate impacton your life, your\n",
      "career, or your business.Not a skillset that it takes\n",
      "years to see any results,but something that you\n",
      "could learn right now,and you could implement.Something that's very very practical.Second, that it doesn't\n",
      "take you years to learn,that you don't need to\n",
      "go back to school againfor four years of education.Instead, you could learn\n",
      "these skillsets in months,or sometimes in a matter of weeks.Number three, that you could\n",
      "learn from the comfort of yourown home, that you don't need\n",
      "to go to a physical location.You could learn this from your computer,just from your own home.Number four, you could\n",
      "learn at your own pace,meaning that if you want to binge watch,and binge learn, you could do that.Or you want to pace yourself,you want to learn it\n",
      "through a period of time,maybe over a number of\n",
      "days, or a number of weeks,in your spare time, you\n",
      "could do that as well.So I believe skillsets that\n",
      "meet these four criteria,those are very valuable\n",
      "skillsets to learn.So what are the five skillsyou should learn during this lockdown?Now you can pick any one of them,don't try to go crazy and learn too many.Number one is, coding skill.Coders, programmers,\n",
      "developers, software engineers,they will always be in demand,\n",
      "especially with the virus.After this is over, think\n",
      "about the companies.Forget the companies who couldn't make it.But think about the companies who survive.If you were the business owner,what are you gonna do differently?Are you gonna take what you do\n",
      "and automate certain aspectsof it, virtualize certain\n",
      "aspects of your business.Maybe you shut down completely\n",
      "your physical locations,and just do it online.Things have changed, people learned.They will structure their\n",
      "business differently.You will structure your\n",
      "business and life differently.We learn from it.So what the Coronavirus did\n",
      "is to accelerate that process,it's a trigger.What it means is people\n",
      "who know HTML, CSS, PHP,they will be in demand.So if you have an interest,or you're thinking about it,coding skill is extremely valuable.Skill number two ties to the coding skill,which is digital marketing skill.More businesses, more companies,if they have been doing\n",
      "some businesses online,they've been selling online,now after this Coronavirus,\n",
      "they will be more motivated.Before, it's like a, it's nice to have,it's nice to sell online,\n",
      "it's nice to do social media.Now, it becomes a necessity.Now, it becomes the new normal.Business who have always been\n",
      "doing businesses just offline,now they'll be thinking\n",
      "about okay, my goodness,we get through this, we have to change.We have to restructure our business model.How could we take what\n",
      "we do, and do it online.Example, if you have, let's\n",
      "say you're running a few gyms,and you have people coming\n",
      "in and out all the time.Now with this, your gyms are shut down.When you come back and\n",
      "when you bounce back,now you're thinking, how can\n",
      "I take my fitness training,how can I take my nutrition plan,how can I do this, and how\n",
      "could I serve the world?How can I sell this on the internet?So what it means, if you\n",
      "know how to build Funnel,if you know how to generate traffic,you know how to do MediaBuy,\n",
      "you know how to build websites.All those skillsets\n",
      "will be high in demand.It's already high in demand.But the ones who are good,\n",
      "you will always be in demand.Even though you may not be thinking aboutdoing digital marketing full time,but if you are being\n",
      "interviewed at a new job,if you have that skillset, you\n",
      "can bring that to the tableas so much more value to your resume.Skill number three, closing.The ability to close products or services,to sell them over the phone,or over the internet through Zoom.Those are very valuable skills.With the Coronavirus, with this crisis,companies are now looking into\n",
      "the entire sales division.And saying oh my goodness, we\n",
      "have all these sales people.How could we outsource this?How could we have a remote sales teaminstead of a sales team\n",
      "with a physical location?How can we sell our products\n",
      "or services over the phonewithout a massive overhead?They're thinking differently.So if you have the ability\n",
      "to close phone sales,if you have the ability to\n",
      "close products and services,companies are willing to\n",
      "pay you a hefty commissionwhen you can demonstrate that quality,when you can demonstrate\n",
      "that you have that skillset.Closing will be one of the\n",
      "most high demand professionsin the world because\n",
      "companies need revenue,they need sales people, they\n",
      "need skillful sales people,and they need that more than ever,especially when things\n",
      "are coming back to normal,they need revenue and they need closers.Skill number four, project management.Now, because of Slack, because of Zoom,because of people working remotely,companies working remotely,\n",
      "companies outsourcing.With so many projects going on,that creates a new demand\n",
      "for project managers, right.People who are able to managedifferent projects and get stuff done.We're talking about Scrum,\n",
      "we're talking about Agile,we're talking about variousproject management methodologies.With the complexity,\n",
      "with so many companiesnow even after this, moving more,more motivated than ever,\n",
      "moving more to virtual.So guess what, with project managers,or just people with\n",
      "project management skills,because now chances\n",
      "are, you will be workingwith people face to face,\n",
      "but also you will beworking with other people,\n",
      "other team members, remotely.So this skill would be very useful.It doesn't matter what it is that you do,doesn't matter if you're\n",
      "working for a company,doesn't matter if you're\n",
      "working for yourself,it doesn't matter if you're\n",
      "running a home business,this will be a valuable skill to have.Skill number five, one of\n",
      "my favorites, copywriting.Every single social\n",
      "media post that you see,every single email, every single ad,every single landing page, copywriters.Companies that do any\n",
      "type of content marketing,companies that do any type of advertising,they need copywriters,and they will always\n",
      "be needing copywriters.Because it's not just one\n",
      "email, it's not just one page,it's not just one article.In order to stand out in this noisy world,in this marketplace,content marketing is extremely critical.They will need someone\n",
      "to write their script,they will need someone to\n",
      "write their social media post.Almost every single company out there,if they do any kind of\n",
      "online marketing at all,will need a skillful copywriter.And the beauty with copywriting is,it has nothing to do with writing,it has to do with selling and closing,that's why I call that closing in print.Copywriting is a learnable skill.I know because I flunked English twicewhen I was in high school.It is learnable, it is transferable,it is sustainable, and it is doable.If you want to learn\n",
      "copywriting, if you want to learna skill that pays the bills,\n",
      "if you want to learn a skillthat allows you to work\n",
      "from anywhere in the worldfrom the comfort of your own\n",
      "home, a skillset that doesn'ttake you years to learn\n",
      "without getting into debt,click the link below and join mefor my free exclusive training today.\n"
     ]
    },
    {
     "ename": "TypeError",
     "evalue": "'NoneType' object is not subscriptable",
     "output_type": "error",
     "traceback": [
      "\u001b[0;31m---------------------------------------------------------------------------\u001b[0m",
      "\u001b[0;31mTypeError\u001b[0m                                 Traceback (most recent call last)",
      "\u001b[0;32m<ipython-input-18-9dda85a1eecc>\u001b[0m in \u001b[0;36m<module>\u001b[0;34m\u001b[0m\n\u001b[1;32m      5\u001b[0m \u001b[0mtranscript_text\u001b[0m \u001b[0;34m=\u001b[0m \u001b[0;34m''\u001b[0m\u001b[0;34m.\u001b[0m\u001b[0mjoin\u001b[0m\u001b[0;34m(\u001b[0m\u001b[0mlist\u001b[0m\u001b[0;34m(\u001b[0m\u001b[0mmap\u001b[0m\u001b[0;34m(\u001b[0m\u001b[0;32mlambda\u001b[0m \u001b[0mj\u001b[0m\u001b[0;34m:\u001b[0m \u001b[0mj\u001b[0m\u001b[0;34m[\u001b[0m\u001b[0;34m'text'\u001b[0m\u001b[0;34m]\u001b[0m\u001b[0;34m,\u001b[0m \u001b[0mjson_list\u001b[0m\u001b[0;34m)\u001b[0m\u001b[0;34m)\u001b[0m\u001b[0;34m)\u001b[0m\u001b[0;34m\u001b[0m\u001b[0m\n\u001b[1;32m      6\u001b[0m \u001b[0;34m\u001b[0m\u001b[0m\n\u001b[0;32m----> 7\u001b[0;31m \u001b[0mprint\u001b[0m\u001b[0;34m(\u001b[0m\u001b[0;36m0\u001b[0m\u001b[0;34m,\u001b[0m \u001b[0mtranscript_text\u001b[0m\u001b[0;34m)\u001b[0m\u001b[0;34m[\u001b[0m\u001b[0;36m1\u001b[0m\u001b[0;34m]\u001b[0m\u001b[0;34m\u001b[0m\u001b[0m\n\u001b[0m",
      "\u001b[0;31mTypeError\u001b[0m: 'NoneType' object is not subscriptable"
     ]
    }
   ],
   "source": [
    "from youtube_transcript_api import YouTubeTranscriptApi\n",
    "\n",
    "json_list = YouTubeTranscriptApi.get_transcript(video_id)\n",
    "\n",
    "transcript_text = ''.join(list(map(lambda j: j['text'], json_list)))\n",
    "\n",
    "print(0, transcript_text)[1]"
   ]
  },
  {
   "cell_type": "code",
   "execution_count": null,
   "metadata": {},
   "outputs": [],
   "source": [
    "from collections import Counter\n",
    "\n",
    "n_sentences_sentiments_statements = Counter(transcript_text)['.']\n",
    "n_sentences_sentiments_statements"
   ]
  },
  {
   "cell_type": "markdown",
   "metadata": {},
   "source": [
    "### Common Conversations Statistics\n",
    "##### Speech Patterns Idiosyncracy\n",
    "* **Average Youtube Video Length** 4 Minutes 20 Seconds\n",
    "*  5 Minutes\n",
    "*  150 WPM (Spoken)\n",
    "*  14 WPS\n",
    "* ~ 10 Sentences Per Minute\n",
    "*  5 x 150 WPM ~ 500-600 Words / 14 WPS ~= 42 Sentences / 5 Minutes ~= 50 Sentences / 5 Minutes\n",
    "\n",
    "*  ~= 10 Sentences Per Minute\n",
    "*  5000K Sentences ~ 500 Minutes ~ 10 Hours of Video ~ 100 Fast Five-minute videos"
   ]
  },
  {
   "cell_type": "markdown",
   "metadata": {},
   "source": [
    "### Summary , Video Title, Translations Languages"
   ]
  },
  {
   "cell_type": "code",
   "execution_count": 19,
   "metadata": {},
   "outputs": [
    {
     "name": "stdout",
     "output_type": "stream",
     "text": [
      "mkdir: cannot create directory ‘data’: File exists\r\n"
     ]
    }
   ],
   "source": [
    "!mkdir data"
   ]
  },
  {
   "cell_type": "code",
   "execution_count": 20,
   "metadata": {},
   "outputs": [
    {
     "name": "stdout",
     "output_type": "stream",
     "text": [
      "Overwriting data/my_youtube_video_ids.csv\n"
     ]
    }
   ],
   "source": [
    "%%writefile data/my_youtube_video_ids.csv\n",
    "vid, who\n",
    "aoTc3HGBbPg,ICO\n",
    "AbFIPc34AJ8,ICO\n",
    "XFQMhdAUGOU,ROB\n",
    "MJtbBRUYADw,ROB\n",
    "7JKRAK9995k,ROB\n",
    "BeACT80tsX8,DAN\n",
    "yY-rEncl8cI,DAN\n",
    "rT7adLpMZkw,DAN\n",
    "E6Csz_hvXzw,DAN\n",
    "wVefMeweVgE,ICO\n",
    "XFQMhdAUGOU,ROB\n",
    "YoN1XM8SndA,ROB\n",
    "A8vD_XO0vUU,ROB\n",
    "az6NibAUf7Y,ROB\n",
    "azq0S0DKS50,ROB\n",
    "ADPFEw-7FtU,DAN\n",
    "hEXia0gzRVY,ROB\n",
    "g3yCyt5xs3E,DAN\n",
    "ZmOCLKiXmdk,DAN\n",
    "jmNdho2svuc,DAN\n",
    "plwILmYHlf0,DAN\n",
    "zie_xSa2oRc,DAN\n",
    "og_V1uSms20,DAN\n",
    "KBa3QQpQbbA,DAN\n",
    "yT7FCRR7PkA,DAN\n",
    "zRpUfq-tyqQ,DAN\n",
    "tilA5Y-MUB4,DAN\n",
    "ClhZhExTnlE,DAN\n",
    "A12lO6w-8JM,ROB\n",
    "2fTh_oCx4bo,ROB\n",
    "KG-k2AHlosw,DAN\n",
    "7Sokpt3aQPo,DAN\n",
    "7HbtME6RbME,DAN\n",
    "7C1QJ91fAvs,DAN\n",
    "cLckIFboMGk,ICO\n",
    "m-_gOL49vbw,ROB\n",
    "dTDVLdcTY9w,DAN\n",
    "qutavZTkFeY,DAN\n",
    "z0TKv9sW3r8,DAN\n",
    "rT7adLpMZkw,DAN\n",
    "QvCVji-GWyo,DAN\n",
    "wnJYna6g0ik,DAN\n",
    "bkCwhJhCzvU,DAN\n",
    "GY-m-CSfLNE,DAN\n",
    "NRDazZekmPk,DAN\n",
    "A5vu7evUqNU,DAN\n",
    "ERz-kHgy8rk,IOC\n",
    "uGdj5R2D08g,DAN\n",
    "wnJYna6g0ik,DAN\n",
    "mvIlyf6E2vI,DAN\n",
    "AeWzDVaTv5g,DAN\n",
    "N9g6udVMftA,DAN\n",
    "jwQU6RtIF-U,DAN\n",
    "EnmbXh3ttaE,DAN\n",
    "oH-JnFjmJqo,DAN\n",
    "VRMnLcgYVTA,DAN\n",
    "O_mo6oIBc4E,DAN\n",
    "EXA3NsAlMlo,DAN\n",
    "4N0NvGGnDyw,DAN\n",
    "rSE5dPn_ow4,DAN\n",
    "0PXKsh6AHz0,DAN\n",
    "uOXIxKY0nZ0,ROB\n",
    "yywLMcLMNAk,DAN\n",
    "GMpAvr-ce_s,DAN\n",
    "wIYSDn_X084,DAN\n",
    "MYaXovhpLpU,ICO\n",
    "8kNxXhMdFOw,DAN\n",
    "Brt9BuyEOmg,DAN\n",
    "Zjvpmzt4eHU,ICO\n",
    "BeACT80tsX8,DAN\n",
    "YahcimJVBm0,DAN\n",
    "NYPiURmSqAQ,DAN\n",
    "BAxw0aT-p6M,ROB\n",
    "5eAh2Fb2enY,DAN\n",
    "8kNxXhMdFOw,DAN\n",
    "Brt9BuyEOmg,DAN\n",
    "YahcimJVBm0,DAN\n",
    "5eAh2Fb2enY,DAN\n",
    "abMQhaMdQu0,ROB\n",
    "Nf-SOsJz5rY,ICO\n",
    "C_pTOomVtI8,ICO\n",
    "3Ye3OHI4XnY,DAN\n",
    "kfLOz5WzOlw,ICO\n",
    "GkTUepHlSQM,ICO\n",
    "8cs8XHXU1kw,ICO\n",
    "oPRP6C5MlWY,ICO\n",
    "mj8NYWg6nX0,ICO\n",
    "ERz-kHgy8rk,ICO\n",
    "FlxtXo-TvzY,ICO\n",
    "T-D-JqxQtIY,ICO\n",
    "EtW8w01rWTU,ICO\n",
    "SRD-ylYbvYI,ICO\n",
    "mCruC8hWrqs,ICO\n",
    "x9T02NfNSDw,ICO\n",
    "SRD-ylYbvYI,ICO\n",
    "h5TR-LRTDjs,ICO\n",
    "YdzMfnka1Rw,ICO\n",
    "G_CwsTn45xk,ICO\n",
    "2u8iRuvLaq8,ICO\n",
    "Yy-UdD073gs,ICO"
   ]
  },
  {
   "cell_type": "code",
   "execution_count": 21,
   "metadata": {},
   "outputs": [
    {
     "name": "stdout",
     "output_type": "stream",
     "text": [
      "100\n"
     ]
    }
   ],
   "source": [
    "FILE_NAME = 'data/my_youtube_video_ids.csv'\n",
    "#'my_youtube_video_ids.txt'\n",
    "\n",
    "with open(FILE_NAME) as f:\n",
    "    video_ids = f.readlines()\n",
    "\n",
    "# you may also want to remove whitespace characters like `\\n` at the end of each line\n",
    "video_ids = [video_id.split(',')[0].strip() for video_id in video_ids if video_id[:3] != 'vid']\n",
    "video_ids = [vid for vid in video_ids if vid != '1h1Sx1PC75G']\n",
    "\n",
    "print(len(video_ids))\n",
    "#video_ids"
   ]
  },
  {
   "cell_type": "code",
   "execution_count": 22,
   "metadata": {},
   "outputs": [
    {
     "data": {
      "text/plain": [
       "\"I have to tell y'all in college I had anickname it was the dirty does in themiddle of the day for no reason[Music]I can't think of anywhere I would ratherbe than here at the headquarters of tipstreats cooking delivery we love thisspace we get to that we had a reallysmall office you just celebrated openingyour 40th location that is a really bigmilestone where did this journeys beginwith Arden in 1999 when we were Collegesophomores at University of Texas by nowwonderful life here stood me up on adate actuallylike an interesting story do tellsure I was out with friends and myactivity ran long and then I didn't callme on to tell him I wasn't gonna make itfor the date that we had planned I wasstaying at my mom's and she said wellthat was very rude you should dosomething to apologize and so I used tobake cookies for funand so that was my apology I baked him aset of cookies and I drove him over tohis house and then when I got there theywere still warm and he looked at him andhe said we're gonna do this like pizzadelivery we're gonna have a business wecan run it right out of my apartment andthey'll be just like pizza deliveryexcept we're gonna deliver one cookieand TIFF immediately said no I reallythought that was that maybe 45 minuteslater she calls me and she says I'llgive it a try she made me promise thatwe could only do it as a business if wedid it Sunday through Thursday 8:00 p.m.to midnight because we were studentsduring the weekday and she wanted to goout with our friends all your prioritiesthree or nineteen so worth it we startedin January of 99 and I think we wentthree days where we had the batchesready we put flyers at dorms slid themunderneath dorm rooms put them on carsor on campus and we thought okay we'llsit back and we'll wait the orders willpour in and literally nothing for threedays yeah but three days it's not thatlong to wait I still remember our firstorder a girl named Amy from Universitytowers don't know don't know where sheis today they may be out there yeah we'dlove to connect with you Amy yes in factI think she called during a day when weweren't Oprah and she said I'd like toget an order for tonight left thevoicemail and Leon called me right awaysaid we've got an order right there mustbe one of your friends you knowwhich is your friend Amy not a friendthat's a real customer and so we wereexcited so Leon made that very firstdelivery to University towers dormthat's kind of how we started dormsapartments in West Campus yeah used tobe five orders a night would be plentybusy we were just hanging out in ourapartment we would make the dough duringthe day we'd have chocolate chips andM&M and we'd have all those chips in mysock drawer in my bedroomit took the socks out you take suctionand it was clean sock it's a clean socktour right and so if you call then placean order we go into my bedroom open thesock drawer out and get a bag ofchocolate chips and a bag of M&Ms go tothe kitchen and mix it into the doughand that's literally how small we werewhen we first started we startedskipping classes to deliver cookiesduring the data to the offices downtownand so we decided hey let's try to makethis thing not just a late-night cookiedelivery concept we think there's ademand for the law firms hospitalsdowntown officers did you realize youwere creating this social phenomenonlike what people when tip Street showsup in an office people go wild I mean Ihave chased a tip streets deliveryperson before and I know I'm not alonein that did you realize they would touchon him that way certainly we didn'trealize that when we started but I willsay people were excited about it fromthe get-go people always ask us and wetalked about a couple years after wegraduated college we went full-time weweren't making any money and we'reworking crazy hours and they say wellwhy didn't you want to quit and thetruth is we never considered quittingand the reason was because the communitywas so excited about what we were doingthat it would have seemed very odd to belike well never mind even thougheverybody loves it we're just you knowwe're not making enough money we're notgonna do it and so you know we made itwork and that excitement was there andit was building yeah every othervariable said we should have quit theonly thing that kept us going waseverybody was just so excited about yourheart wasn't it and so it was theirswhat's the most magical delivery you'veever been a part of early on we startedrealizing that what made us work is thatwe were connecting people in specialmoments there was a little boy in Planoand he had been diagnosed with cancer hewas going through chemo and the way weknew about that was his grandparentswere putting in an order for him andevery week they would count down howmany sessions left so they would startin 6 left and then the next week anotherwoman come in five left four left andthe staff of the store just noticed thisweek after week these orders comingthrough and so they finally get down toone and they send it out and then theydon't know and so they actually justcalled the family we've all been rootingfor him we want to know how he's doingand we're just going to pass along ourthoughts and they were surprised theydidn't realize that we would have evennoticed that the whole team was just soexcited to hear that he was doing wellhe had gotten through all of his chemosin remission and we were just so excitedto just be a part of it just be a partof something uplifting that it's such aspecial story yeah you've seentremendous amount of growth over thelast year's what do you think one of thebiggest factors of y'all successes wejust have that unique opportunity toreally be a part of somebody's momentthat privilege really it's connectpeople together so you can connect withsomeone thousands of miles away we'vehad a soldiers order for their lovedones here at home what do you think theSouth Warren College version of you twowould say about who you become now whatdo you think they would look at this andthey probably think we were boringthat's true cuz we don't go out everyFriday and Saturday night anymore that'sfor sure I think the sophomore would bekind of happy because I had interned myfreshman and sophomore years I remembersitting there watching everybody tickdown the clock at 4:45 4:50 waiting forfive o'clock to happen and they couldnot wait as soon as five o'clockhappened they were the happiest butthey're miserable the rest of the dayand so I remember sitting there thinkingI'm going to school to be a businessmajor and is this gonna be my life andso I definitely wanted to try to make itto where I was not one of those peoplejust waiting for the clock watching theclock and so hopefully my 19 year oldself would be kind of happy that it'snot that way we enjoy being here everysingle day and what does the future holdit's gonna be sensible a tip is her nameis on the box her name is on the signshe's not gonna allow the quality to dipat all so we'll grow as fast as we canwhile maintaining the kind of qualitythat and services there is justsomething about a tip streets cookie wemay never know the recipes but as longas I can just feed as many as possibleabout it's early but I think we canwherever that I actually think we havesome deliveries coming oh here we goyeah we dothanks Jen thank you see just this boxmakes people light up what were youthinking when you planned on the whitewith the blue ribbon the first thing wedid was look up on the internet how canwe package them and then it was actuallymy idea over here mr. ribbon my onecontribution great so when you designthis was it meant to be untied or do youdo what I do and just get it off andstuff you know and I think far and awayat the untie oh that's right in our ownadventure let me do the wrap I need toget a new nickname other than dirtydoesn't live up to that nickname righthere right now that's right a challengethey're so beautiful these are chocolatechip and then we've got somesnickerdoodleso what y'all go to order oh I'm a mealchocolate chip on snickerdoodle so can Idive in here do it for youwell the do I think two dozen cookies ata time two dozen cookies every 15minutes now our stores are equipped todo 40 dozen every 15 minutes it'schocolate folks it's chocolate milk andunlimited tips treats here grab the milklet's share love milk thank you guys somuch thank you so much yes Cheers\""
      ]
     },
     "execution_count": 22,
     "metadata": {},
     "output_type": "execute_result"
    }
   ],
   "source": [
    "from youtube_transcript_api import YouTubeTranscriptApi\n",
    "\n",
    "json_list = YouTubeTranscriptApi.get_transcript(video_ids[-2])\n",
    "\n",
    "transcript_text = ''.join(list(map(lambda j: j['text'], json_list)))\n",
    "\n",
    "\n",
    "def get_youtube_text(vid):\n",
    "    json_list = YouTubeTranscriptApi.get_transcript(vid)\n",
    "    transcript_text = ''.join(list(map(lambda j: j['text'], json_list)))\n",
    "    \n",
    "    return transcript_text\n",
    "\n",
    "#print(0, transcript_text)[1]\n",
    "transcript_text"
   ]
  },
  {
   "cell_type": "code",
   "execution_count": 23,
   "metadata": {},
   "outputs": [],
   "source": [
    "import pandas as pd\n",
    "\n",
    "FILE_NAME = 'data/my_youtube_video_ids.csv'#'my_youtube_video_ids.txt'\n",
    "\n",
    "df = pd.read_csv(FILE_NAME)\n",
    "\n",
    "df['text'] = df.vid.apply(get_youtube_text)"
   ]
  },
  {
   "cell_type": "code",
   "execution_count": 24,
   "metadata": {},
   "outputs": [],
   "source": [
    "df.to_csv('data/my_youtube_video_ids_with_transcript_text.csv')\n"
   ]
  },
  {
   "cell_type": "code",
   "execution_count": 13,
   "metadata": {},
   "outputs": [],
   "source": [
    "import pandas as pd\n",
    "\n",
    "YOUTUBE_TRAINING_DATA = 'data/my_youtube_video_ids_with_transcript_text.csv'\n",
    "\n",
    "df = pd.read_csv(YOUTUBE_TRAINING_DATA)\n",
    "#df.from_csv(YOUTUBE_TRAINING_DATA)"
   ]
  },
  {
   "cell_type": "markdown",
   "metadata": {},
   "source": [
    "### 7 Seven Steps to Keras-Youtube-Text-Generation"
   ]
  },
  {
   "cell_type": "markdown",
   "metadata": {},
   "source": [
    "1. Preprocessing data into 1(A) trainX 1(B) trainY 1(C) pickle & tokenize weights\n",
    "2. Define Model Architecture & Language => 2(A) Compile 2(B) Fit Functions\n",
    "3. Colab Code\n",
    "4. HD5 NNWeights\n",
    "5. Measure Accuracy\n",
    "6. Generate Next Text Response\n",
    "7. Produce API affliate link text ads purchase example proof of concept"
   ]
  },
  {
   "cell_type": "code",
   "execution_count": 14,
   "metadata": {},
   "outputs": [],
   "source": [
    "# Standard Data Science Libraries\n",
    "import pickle\n",
    "import math\n",
    "import pandas as pd\n",
    "import numpy as np\n",
    "from numpy import array\n",
    "\n",
    "# Neural Net Preprocessing\n",
    "from sklearn.feature_extraction.text import CountVectorizer\n",
    "from tensorflow.keras.preprocessing.text import Tokenizer\n",
    "from tensorflow.keras.utils import to_categorical\n",
    "from tensorflow.keras.preprocessing.sequence import pad_sequences\n",
    "# Neural Net Layers\n",
    "from tensorflow.keras.models import Sequential\n",
    "from tensorflow.keras.layers import Dense\n",
    "from tensorflow.keras.layers import Dropout\n",
    "from tensorflow.keras.layers import LSTM\n",
    "from tensorflow.keras.layers import Embedding\n",
    "\n",
    "# Neural Net Training\n",
    "from tensorflow.keras.models import load_model\n",
    "from tensorflow.keras.callbacks import ModelCheckpoint\n",
    "from keras.callbacks import EarlyStopping\n",
    "\n",
    "from pickle import load, dump"
   ]
  },
  {
   "cell_type": "code",
   "execution_count": 15,
   "metadata": {},
   "outputs": [
    {
     "name": "stdout",
     "output_type": "stream",
     "text": [
      "mkdir: cannot create directory ‘./data’: File exists\n",
      "\n",
      "./data/author_values.pkl\n",
      "./data/model_weights.hdf5\n",
      "./data/my_youtube_video_ids.csv\n",
      "./data/my_youtube_video_ids_with_transcript_text.csv\n",
      "./data/Test Keras and TensorFlow Text Generation ANN Model with CoLab GPU.ipynb\n",
      "./data/tokenizer.pkl\n",
      "./data/trainX.pkl\n",
      "./data/trainY.pkl\n",
      "./data/youtube_video_ids_with_transcript_text_and_author.csv\n"
     ]
    }
   ],
   "source": [
    "DATA_DIRECTORY = './data'\n",
    "!mkdir $DATA_DIRECTORY\n",
    "!echo\n",
    "!ls $DATA_DIRECTORY/*"
   ]
  },
  {
   "cell_type": "code",
   "execution_count": 16,
   "metadata": {},
   "outputs": [
    {
     "data": {
      "text/html": [
       "<div>\n",
       "<style scoped>\n",
       "    .dataframe tbody tr th:only-of-type {\n",
       "        vertical-align: middle;\n",
       "    }\n",
       "\n",
       "    .dataframe tbody tr th {\n",
       "        vertical-align: top;\n",
       "    }\n",
       "\n",
       "    .dataframe thead th {\n",
       "        text-align: right;\n",
       "    }\n",
       "</style>\n",
       "<table border=\"1\" class=\"dataframe\">\n",
       "  <thead>\n",
       "    <tr style=\"text-align: right;\">\n",
       "      <th></th>\n",
       "      <th>id</th>\n",
       "      <th>text</th>\n",
       "      <th>author</th>\n",
       "    </tr>\n",
       "  </thead>\n",
       "  <tbody>\n",
       "    <tr>\n",
       "      <th>0</th>\n",
       "      <td>aoTc3HGBbPg</td>\n",
       "      <td>so can you talk a little bit about howyou take...</td>\n",
       "      <td>ICO</td>\n",
       "    </tr>\n",
       "    <tr>\n",
       "      <th>1</th>\n",
       "      <td>AbFIPc34AJ8</td>\n",
       "      <td>for us we formalized the definition ofour cult...</td>\n",
       "      <td>ICO</td>\n",
       "    </tr>\n",
       "    <tr>\n",
       "      <th>2</th>\n",
       "      <td>XFQMhdAUGOU</td>\n",
       "      <td>[Applause]hey youtubers its Alex for anotherMe...</td>\n",
       "      <td>ROB</td>\n",
       "    </tr>\n",
       "    <tr>\n",
       "      <th>3</th>\n",
       "      <td>MJtbBRUYADw</td>\n",
       "      <td>This is the rich dad radio show,the good news ...</td>\n",
       "      <td>ROB</td>\n",
       "    </tr>\n",
       "    <tr>\n",
       "      <th>4</th>\n",
       "      <td>7JKRAK9995k</td>\n",
       "      <td>I wanted to know what are these thingsthat we ...</td>\n",
       "      <td>ROB</td>\n",
       "    </tr>\n",
       "  </tbody>\n",
       "</table>\n",
       "</div>"
      ],
      "text/plain": [
       "            id                                               text author\n",
       "0  aoTc3HGBbPg  so can you talk a little bit about howyou take...    ICO\n",
       "1  AbFIPc34AJ8  for us we formalized the definition ofour cult...    ICO\n",
       "2  XFQMhdAUGOU  [Applause]hey youtubers its Alex for anotherMe...    ROB\n",
       "3  MJtbBRUYADw  This is the rich dad radio show,the good news ...    ROB\n",
       "4  7JKRAK9995k  I wanted to know what are these thingsthat we ...    ROB"
      ]
     },
     "execution_count": 16,
     "metadata": {},
     "output_type": "execute_result"
    }
   ],
   "source": [
    "YOUTUBE_TRAINING_DATA = 'data/my_youtube_video_ids_with_transcript_text.csv'\n",
    "df = pd.read_csv(YOUTUBE_TRAINING_DATA)\n",
    "\n",
    "df_text_gen = df[['vid', 'text', ' who' ]]\n",
    "df_text_gen.columns = ['id', 'text', 'author']\n",
    "df_text_gen.head()"
   ]
  },
  {
   "cell_type": "code",
   "execution_count": 17,
   "metadata": {},
   "outputs": [],
   "source": [
    "TRAIN_DATA_TEXT_GEN_FORMAT_FILE_NAME = 'data/youtube_video_ids_with_transcript_text_and_author.csv'\n",
    "df_text_gen.to_csv(TRAIN_DATA_TEXT_GEN_FORMAT_FILE_NAME)"
   ]
  },
  {
   "cell_type": "code",
   "execution_count": 20,
   "metadata": {},
   "outputs": [
    {
     "name": "stdout",
     "output_type": "stream",
     "text": [
      "('Number of training sentences: ', 58)\n"
     ]
    }
   ],
   "source": [
    "# Import the data\n",
    "\n",
    "train_df = pd.read_csv( TRAIN_DATA_TEXT_GEN_FORMAT_FILE_NAME)\n",
    "# Selecting Dan Lok as author style to emulate\n",
    "author = train_df[train_df['author'] == 'DAN'][\"text\"]\n",
    "print('Number of training sentences: ',author.shape[0])"
   ]
  },
  {
   "cell_type": "code",
   "execution_count": null,
   "metadata": {},
   "outputs": [],
   "source": [
    "dump(author.values, open('author_values.pkl', 'wb'))"
   ]
  },
  {
   "cell_type": "code",
   "execution_count": 21,
   "metadata": {},
   "outputs": [
    {
     "data": {
      "text/html": [
       "<div>\n",
       "<style scoped>\n",
       "    .dataframe tbody tr th:only-of-type {\n",
       "        vertical-align: middle;\n",
       "    }\n",
       "\n",
       "    .dataframe tbody tr th {\n",
       "        vertical-align: top;\n",
       "    }\n",
       "\n",
       "    .dataframe thead th {\n",
       "        text-align: right;\n",
       "    }\n",
       "</style>\n",
       "<table border=\"1\" class=\"dataframe\">\n",
       "  <thead>\n",
       "    <tr style=\"text-align: right;\">\n",
       "      <th></th>\n",
       "      <th>Unnamed: 0</th>\n",
       "    </tr>\n",
       "  </thead>\n",
       "  <tbody>\n",
       "    <tr>\n",
       "      <th>count</th>\n",
       "      <td>100.000000</td>\n",
       "    </tr>\n",
       "    <tr>\n",
       "      <th>mean</th>\n",
       "      <td>49.500000</td>\n",
       "    </tr>\n",
       "    <tr>\n",
       "      <th>std</th>\n",
       "      <td>29.011492</td>\n",
       "    </tr>\n",
       "    <tr>\n",
       "      <th>min</th>\n",
       "      <td>0.000000</td>\n",
       "    </tr>\n",
       "    <tr>\n",
       "      <th>25%</th>\n",
       "      <td>24.750000</td>\n",
       "    </tr>\n",
       "    <tr>\n",
       "      <th>50%</th>\n",
       "      <td>49.500000</td>\n",
       "    </tr>\n",
       "    <tr>\n",
       "      <th>75%</th>\n",
       "      <td>74.250000</td>\n",
       "    </tr>\n",
       "    <tr>\n",
       "      <th>max</th>\n",
       "      <td>99.000000</td>\n",
       "    </tr>\n",
       "  </tbody>\n",
       "</table>\n",
       "</div>"
      ],
      "text/plain": [
       "       Unnamed: 0\n",
       "count  100.000000\n",
       "mean    49.500000\n",
       "std     29.011492\n",
       "min      0.000000\n",
       "25%     24.750000\n",
       "50%     49.500000\n",
       "75%     74.250000\n",
       "max     99.000000"
      ]
     },
     "execution_count": 21,
     "metadata": {},
     "output_type": "execute_result"
    }
   ],
   "source": [
    "train_df.describe()"
   ]
  },
  {
   "cell_type": "code",
   "execution_count": 22,
   "metadata": {},
   "outputs": [
    {
     "data": {
      "text/html": [
       "<div>\n",
       "<style scoped>\n",
       "    .dataframe tbody tr th:only-of-type {\n",
       "        vertical-align: middle;\n",
       "    }\n",
       "\n",
       "    .dataframe tbody tr th {\n",
       "        vertical-align: top;\n",
       "    }\n",
       "\n",
       "    .dataframe thead th {\n",
       "        text-align: right;\n",
       "    }\n",
       "</style>\n",
       "<table border=\"1\" class=\"dataframe\">\n",
       "  <thead>\n",
       "    <tr style=\"text-align: right;\">\n",
       "      <th></th>\n",
       "      <th>Unnamed: 0</th>\n",
       "      <th>id</th>\n",
       "      <th>text</th>\n",
       "      <th>author</th>\n",
       "    </tr>\n",
       "  </thead>\n",
       "  <tbody>\n",
       "    <tr>\n",
       "      <th>0</th>\n",
       "      <td>0</td>\n",
       "      <td>aoTc3HGBbPg</td>\n",
       "      <td>so can you talk a little bit about howyou take...</td>\n",
       "      <td>ICO</td>\n",
       "    </tr>\n",
       "    <tr>\n",
       "      <th>1</th>\n",
       "      <td>1</td>\n",
       "      <td>AbFIPc34AJ8</td>\n",
       "      <td>for us we formalized the definition ofour cult...</td>\n",
       "      <td>ICO</td>\n",
       "    </tr>\n",
       "    <tr>\n",
       "      <th>2</th>\n",
       "      <td>2</td>\n",
       "      <td>XFQMhdAUGOU</td>\n",
       "      <td>[Applause]hey youtubers its Alex for anotherMe...</td>\n",
       "      <td>ROB</td>\n",
       "    </tr>\n",
       "    <tr>\n",
       "      <th>3</th>\n",
       "      <td>3</td>\n",
       "      <td>MJtbBRUYADw</td>\n",
       "      <td>This is the rich dad radio show,the good news ...</td>\n",
       "      <td>ROB</td>\n",
       "    </tr>\n",
       "    <tr>\n",
       "      <th>4</th>\n",
       "      <td>4</td>\n",
       "      <td>7JKRAK9995k</td>\n",
       "      <td>I wanted to know what are these thingsthat we ...</td>\n",
       "      <td>ROB</td>\n",
       "    </tr>\n",
       "  </tbody>\n",
       "</table>\n",
       "</div>"
      ],
      "text/plain": [
       "   Unnamed: 0           id                                               text  \\\n",
       "0           0  aoTc3HGBbPg  so can you talk a little bit about howyou take...   \n",
       "1           1  AbFIPc34AJ8  for us we formalized the definition ofour cult...   \n",
       "2           2  XFQMhdAUGOU  [Applause]hey youtubers its Alex for anotherMe...   \n",
       "3           3  MJtbBRUYADw  This is the rich dad radio show,the good news ...   \n",
       "4           4  7JKRAK9995k  I wanted to know what are these thingsthat we ...   \n",
       "\n",
       "  author  \n",
       "0    ICO  \n",
       "1    ICO  \n",
       "2    ROB  \n",
       "3    ROB  \n",
       "4    ROB  "
      ]
     },
     "execution_count": 22,
     "metadata": {},
     "output_type": "execute_result"
    }
   ],
   "source": [
    "train_df.head()"
   ]
  },
  {
   "cell_type": "code",
   "execution_count": 23,
   "metadata": {},
   "outputs": [
    {
     "data": {
      "text/plain": [
       "Counter({'DAN': 58, 'ICO': 26, 'IOC': 1, 'ROB': 15})"
      ]
     },
     "execution_count": 23,
     "metadata": {},
     "output_type": "execute_result"
    }
   ],
   "source": [
    "from collections import Counter\n",
    "n_unique_authors = Counter(train_df.author)\n",
    "n_unique_authors"
   ]
  },
  {
   "cell_type": "markdown",
   "metadata": {},
   "source": [
    "# 1. Preprocessing data into \n",
    "+ (a) trainX\n",
    "+ (b) trainY\n",
    "+ (c) pickle & tokenize weights\n",
    "\n",
    "### Preprocessing\n",
    "Generally for NLP projects, to optimize the model's ability to gather meaning from the text, there would be removal of:\n",
    "- stop words such as _\"the\",\"a\",\"an\"_ \n",
    "- punctuation\n",
    "\n",
    "then tokenization (turning unique words into unique integers) of the text. However, because the goal here is to generate fluid and human-like speech, we want to preserve stop words. Instead we just use the Tokenizer method in the Keras library to perform the rest of the preprocessing steps."
   ]
  },
  {
   "cell_type": "markdown",
   "metadata": {},
   "source": [
    "### Tokenize words in corpus using Keras Tokenizer.\n",
    "This function does the following:\n",
    "1. Removes punctation\n",
    "2. Sets all text to lower case\n",
    "3. Splits the words up, then assigns a unique integer to each word\n",
    "4. Replaces all instances of that word with the integer.\n",
    "\n",
    "Tokenization is necessary for preparing data for embedding layer (see model architecture section below)"
   ]
  },
  {
   "cell_type": "code",
   "execution_count": 24,
   "metadata": {},
   "outputs": [
    {
     "name": "stdout",
     "output_type": "stream",
     "text": [
      "[[43, 137, 35, 55, 2, 51, 131, 10, 18, 908, 358, 131, 10, 2, 1968, 7, 3, 139, 65, 4, 12, 2405, 3, 352, 81, 3, 24, 122, 352, 5, 75, 8, 138, 331, 3, 17, 5, 2406, 8, 908, 1038, 3, 139, 65, 2407, 2, 67, 288, 6, 566, 795, 10, 2408, 8, 64, 1, 62, 30, 1427, 265, 7, 3, 17, 2, 1969, 249, 610, 55, 2, 425, 141, 243, 234, 1139, 116, 566, 795, 1139, 41, 566, 795, 3, 17, 506, 249, 64, 87, 63, 337, 1140, 71, 5, 723, 633, 2409, 258, 158, 57, 634, 6, 1245, 6, 57, 1626, 5, 182, 523, 635, 5, 1627, 35, 71, 5, 507, 2410, 7, 1970, 567, 3, 61, 1039, 159, 175, 70, 148, 41, 566, 2411, 1040, 8, 359, 315, 18, 103, 51, 16, 51, 1428, 19, 447, 2412, 566, 6, 3, 52, 508, 10, 76, 6, 3, 52, 508, 10, 76, 36, 23, 508, 40, 175, 21, 611, 102, 659, 11, 92, 43, 3, 796, 4, 60, 7, 51, 26, 1628, 19, 108, 14, 10, 2, 2413, 368, 1, 17, 316, 113, 6, 3, 53, 3, 24, 1629, 27, 20, 611, 49, 2414, 71, 186, 71, 43, 128, 9, 39, 36, 17, 1246, 215, 43, 324, 14, 1628, 81, 32, 25, 42, 3, 54, 1971, 43, 52, 30, 508, 6, 19, 52, 30, 2415, 6, 19, 52, 3, 392, 77, 8, 2, 1972, 40, 42, 44, 271, 56, 19, 152, 1, 2416, 19, 152, 1, 568, 1, 29, 1, 23, 11, 1630, 33, 9, 10, 2, 325, 456, 359, 6, 1041, 42, 44, 271, 585, 1973, 55, 15, 547, 114, 272, 2417, 11, 3, 660, 724, 47, 566, 3, 173, 12, 83, 108, 42, 83, 1042, 360, 34, 2, 1631, 71, 186, 71, 44, 909, 34, 2, 1631, 15, 259, 6, 19, 173, 9, 28, 55, 7, 1974, 170, 55, 15, 972, 55, 2, 138, 2418, 2419, 19, 24, 569, 210, 6, 19, 24, 62, 15, 435, 3, 52, 797, 10, 1975, 1632, 42, 43, 52, 41, 485, 10, 2, 636, 127, 150, 524, 485, 54, 11, 76, 42, 585, 2420, 54, 11, 76, 39, 485, 10, 11, 1141, 63, 55, 2, 393, 2421, 4, 485, 11, 1, 176, 69, 4, 2, 220, 1633, 11, 3, 52, 42, 9, 255, 4, 910, 3, 13, 145, 16, 7, 60, 5, 361, 1043, 3, 52, 36, 229, 244, 2422, 40, 136, 272, 5, 76, 486, 49, 272, 5, 1627, 20, 272, 343, 4, 2423, 910, 177, 469, 293, 32, 25, 18, 138, 279, 3, 148, 41, 2, 1634, 1044, 22, 13, 1, 229, 7, 1634, 1044, 797, 1429, 7, 6, 90, 765, 8, 7, 177, 469, 293, 14, 10, 46, 8, 2, 245, 2424, 8, 1976, 10, 7, 2425, 2426, 369, 2427, 8, 2, 2428, 244, 260, 23, 612, 6, 27, 160, 1247, 160, 260, 27, 1, 31, 4, 2429, 260, 1977, 1, 176, 17, 1430, 48, 612, 55, 2, 67, 25, 613, 67, 2430, 316, 200, 16, 2, 849, 114, 55, 798, 2, 850, 7, 23, 57, 271, 19, 23, 612, 2431, 11, 6, 136, 3, 470, 38, 146, 3, 179, 159, 374, 18, 2432, 586, 244, 260, 244, 689, 183, 20, 612, 7, 191, 55, 2, 1978, 410, 382, 16, 471, 8, 25, 725, 6, 375, 27, 3, 123, 142, 5, 2433, 236, 12, 3, 221, 148, 4, 2, 375, 49, 30, 410, 5, 181, 525, 3, 221, 148, 4, 2, 375, 33, 104, 526, 1, 166, 52, 94, 87, 2, 2434, 1248, 16, 2, 58, 81, 236, 12, 20, 2, 375, 7, 284, 2, 410, 637, 16, 411, 16, 294, 3, 326, 55, 18, 487, 222, 4, 2, 375, 110, 725, 197, 472, 2435, 2, 375, 212, 78, 222, 4, 2, 375, 27, 2, 375, 1042, 78, 20, 5, 118, 383, 3, 145, 46, 96, 42, 1, 17, 5, 332, 115, 49, 107, 215, 289, 7, 58, 13, 2436, 4, 1, 42, 1, 17, 223, 215, 289, 1, 17, 2437, 58, 1979, 1, 142, 14, 1249, 49, 7, 1249, 42, 1, 17, 48, 124, 317, 215, 289, 46, 2438, 289, 7, 58, 129, 21, 1635, 4, 1, 20, 2, 436, 1980, 43, 457, 1, 137, 851, 1142, 2, 58, 180, 11, 7, 54, 2, 235, 6, 56, 36, 1250, 4, 53, 36, 176, 50, 5, 1045, 7, 10, 206, 265, 4, 47, 7, 1045, 36, 37, 2439, 141, 416, 43, 141, 376, 67, 141, 261, 2440, 19, 123, 507, 142, 507, 222, 507, 726, 507, 198, 6, 507, 911, 47, 2, 799, 175, 458, 36, 37, 229, 317, 215, 1143, 26, 2, 288, 159, 36, 229, 2441, 215, 1143, 26, 1046, 14, 10, 11, 20, 57, 224, 6, 3, 52, 16, 2442, 8, 18, 488, 60, 103, 86, 3, 2443, 230, 67, 10, 63, 3, 800, 4, 448, 18, 412, 262, 3, 17, 265, 109, 449, 16, 56, 30, 2444, 448, 18, 412, 448, 18, 437, 448, 273, 56, 20, 41, 121, 8, 587, 2, 1047, 3, 31, 7, 525, 3, 31, 7, 801, 262, 1, 136, 973, 7, 56, 9, 2445, 91, 727, 39, 20, 41, 2, 260, 41, 2, 353, 33, 56, 262, 1, 45, 727, 124, 7, 56, 20, 41, 2446, 727, 727, 802, 47, 35, 28, 86, 27, 1, 912, 18, 74, 27, 44, 2447, 1, 88, 29, 7, 2, 85, 30, 2448, 689, 20, 21, 32, 15, 140, 2449, 20, 41, 32, 1431, 237, 6, 548, 183, 12, 3, 179, 100, 47, 192, 7, 3, 13, 30, 661, 80, 1251, 146, 1, 132, 21, 2450, 40, 2, 43, 301, 1, 527, 910, 527, 5, 180, 1047, 527, 48, 2451, 64, 63, 42, 1, 17, 2, 2452, 80, 486, 1, 122, 17, 2, 913, 14, 10, 91, 506, 2, 98, 344, 2453, 1636, 66, 566, 795, 20, 52, 727, 6, 229, 80, 1251, 1637, 10, 21, 5, 1981, 260, 105, 80, 2454, 7, 728, 2, 2455, 4, 50, 58, 9, 728, 2, 2456, 4, 50, 58, 9, 728, 2, 2457, 4, 50, 58, 9, 728, 690, 4, 50, 58, 33, 28, 80, 1251, 20, 21, 32, 46, 96, 11, 28, 1048, 7, 10, 2, 2458, 8, 2, 2459, 8, 2, 43, 11, 30, 21, 528, 2, 799, 36, 549, 2, 263, 2460, 36, 13, 21, 29, 2, 974, 36, 549, 2, 263, 36, 1144, 36, 74, 6, 7, 183, 50, 2, 67, 398, 67, 10, 5, 353, 1252, 20, 21, 5, 1638, 1432, 662, 34, 15, 230, 63, 9, 111, 2461, 76, 1, 23, 22, 1639, 1, 23, 71, 5, 729, 9, 10, 21, 41, 1, 100, 55, 2, 74, 20, 41, 1, 333, 2, 435, 333, 1049, 266, 730, 77, 12, 23, 2, 98, 344, 914, 2462, 5, 67, 6, 56, 1, 238, 2, 353, 2463, 852, 7, 435, 852, 15, 435, 6, 303, 7, 125, 1253, 18, 1050, 158, 10, 376, 10, 1254, 27, 585, 132, 2, 376, 295, 36, 37, 128, 2464, 132, 2, 376, 295, 244, 2465, 10, 158, 14, 27, 1, 37, 132, 690, 271, 6, 56, 1, 88, 38, 271, 273, 126, 274, 1145, 4, 50, 98, 8, 18, 2466, 376, 67, 2467, 2, 43, 18, 487, 376, 1146, 161, 66, 206, 417, 40, 5, 1982, 8, 18, 354, 255, 1983, 47, 376, 67, 36, 68, 173, 4, 17, 182, 487, 66, 2468, 2469, 66, 2470, 2471, 49, 2472, 40, 2, 98, 2473, 7, 1, 238, 2, 43, 47, 2, 1255, 975, 413, 975, 6, 14, 10, 12, 1, 549, 43, 26, 21, 63, 1, 338, 304, 44, 66, 94, 14, 3, 586, 660, 724, 63, 2474, 260, 36, 225, 549, 853, 34, 1640, 36, 24, 1641, 2, 1640, 36, 139, 60, 15, 1147, 36, 139, 6, 1984, 2, 638, 854, 6, 12, 1256, 1, 37, 418, 4, 2475, 49, 426, 36, 61, 136, 550, 36, 37, 529, 40, 1147, 6, 638, 7, 10, 99, 46, 2476, 2, 98, 344, 11, 9, 111, 399, 27, 2477, 49, 19, 17, 5, 1043, 273, 3, 225, 400, 4, 2478, 11, 7, 191, 2479, 13, 47, 12, 566, 54, 147, 41, 15, 413, 975, 2, 1255, 975, 2, 2480, 469, 160, 377, 27, 489, 691, 9, 2481, 19, 61, 550, 40, 3, 37, 21, 326, 64, 638, 6, 56, 202, 2482, 6, 107, 309, 3, 855, 5, 1433, 51, 490, 65, 244, 43, 47, 2, 193, 1642, 6, 2483, 6, 56, 36, 113, 48, 1985, 48, 1257, 124, 2484, 2, 138, 209, 803, 56, 36, 345, 4, 13, 180, 20, 21, 41, 67, 358, 692, 20, 41, 2485, 26, 2, 690, 6, 7, 10, 57, 76, 731, 26, 35, 799, 166, 339, 15, 237, 166, 339, 15, 548, 166, 339, 40, 27, 1, 17, 2, 33, 2486, 281, 2, 33, 638, 1, 37, 74, 2487, 5, 353, 1, 37, 1643, 1, 37, 2488, 1, 37, 2489, 11, 20, 804, 20, 43, 1434, 20, 310, 2490, 42, 1, 23, 909, 34, 2, 310, 42, 2491, 34, 43, 909, 34, 15, 353, 28, 12, 284, 2, 260, 398, 6, 28, 12, 284, 2, 260, 491, 28, 22, 1435, 1258, 7, 856, 2, 636, 8, 976, 977, 10, 1259, 1644, 4, 67, 2, 288, 10, 1436, 20, 21, 5, 1645, 20, 21, 5, 1646, 20, 21, 5, 2492, 20, 1259, 1644, 4, 67, 63, 36, 17, 5, 1148, 362, 8, 1437, 2, 1437, 37, 137, 37, 53, 3, 31, 9, 1260, 274, 3, 31, 1148, 978, 1260, 274, 6, 14, 274, 2, 976, 977, 16, 1046, 1986, 766, 9, 3, 52, 14, 10, 2, 98, 344, 438, 77, 8, 55, 8, 64, 146, 22, 1, 439, 1987, 26, 15, 260, 414, 12, 129, 7, 154, 20, 21, 1645, 20, 21, 1646, 20, 1259, 414, 2493, 39, 114, 48, 2494, 124, 316, 7, 2495, 9, 2, 85, 7, 266, 19, 31, 9, 19, 31, 2496, 639, 266, 22, 19, 31, 146, 19, 31, 169, 799, 5, 767, 7, 19, 31, 1, 29, 19, 663, 4, 285, 5, 305, 374, 1261, 374, 732, 19, 123, 13, 7, 33, 19, 123, 285, 9, 66, 110, 2497, 19, 123, 285, 2498, 110, 2499, 19, 123, 285, 9, 66, 110, 693, 19, 31, 4, 38, 343, 4, 13, 7, 20, 65, 4, 64, 19, 31, 4, 142, 6, 19, 31, 4, 2500, 110, 230, 471, 414, 417, 2501, 36, 84, 4, 38, 343, 4, 1438, 7, 84, 27, 1, 23, 226, 89, 7, 358, 8, 94, 14, 10, 12, 36, 17, 14, 10, 12, 36, 915, 6, 1, 176, 142, 79, 7, 358, 111, 74, 43, 31, 4, 142, 34, 110, 230, 471, 6, 19, 31, 2502, 58, 34, 110, 230, 471, 11, 71, 5, 260, 71, 15, 260, 689, 22, 13, 1, 13, 7, 104, 1262, 1647, 1, 37, 62, 39, 46, 8, 2, 57, 2503, 7, 916, 118, 19, 2504, 2, 1262, 2505, 664, 1648, 217, 401, 7, 177, 47, 110, 103, 492, 86, 28, 39, 2, 2506, 28, 164, 133, 104, 71, 206, 71, 2507, 71, 1262, 1647, 1, 84, 4, 1988, 22, 13, 1, 2508, 1260, 2, 979, 8, 15, 259, 11, 73, 1, 69, 117, 23, 2, 1040, 8, 359, 66, 566, 795, 27, 1, 31, 4, 62, 48, 8, 119, 473, 8, 279, 66, 35, 140, 394, 267, 239, 156, 62, 12, 138, 1257, 12, 138, 2509, 3, 352, 1, 123, 640, 66, 110, 641, 6, 1, 136, 123, 640, 66, 18, 641, 267, 1263, 473, 16, 2, 331, 1, 31, 35, 4, 267, 240], [126, 1264, 5, 311, 57, 76, 3773, 551, 8, 18, 74, 378, 140, 22, 13, 1, 491, 733, 22, 61, 1, 38, 11, 733, 6, 11, 1265, 3774, 395, 22, 13, 1, 1439, 7, 22, 13, 1, 1258, 7, 12, 23, 2, 2510, 4, 2511, 665, 81, 103, 8, 55, 112, 1051, 665, 103, 3, 145, 2, 1649, 8, 665, 10, 218, 20, 149, 318, 1440, 363, 16, 1052, 51, 28, 9, 363, 1052, 51, 11, 159, 30, 70, 82, 1, 107, 3775, 132, 1, 491, 733, 99, 46, 42, 666, 43, 23, 1441, 6, 19, 53, 81, 3, 197, 491, 733, 12, 19, 183, 154, 1989, 23, 203, 5, 75, 8, 162, 118, 40, 19, 23, 21, 11, 250, 3776, 23, 122, 100, 93, 3777, 1149, 160, 588, 129, 21, 50, 5, 325, 11, 2, 509, 99, 46, 4, 2511, 3778, 1, 84, 4, 38, 586, 1650, 42, 9, 255, 4, 2, 694, 12, 10, 9, 1, 23, 312, 4, 13, 12, 10, 9, 44, 312, 4, 229, 164, 2, 694, 7, 1, 31, 282, 8, 32, 203, 805, 805, 805, 805, 63, 3, 145, 3779, 10, 136, 5, 589, 8, 3780, 32, 63, 44, 805, 9, 111, 154, 44, 642, 32, 63, 1, 1266, 65, 15, 3781, 55, 695, 8, 162, 4, 13, 9, 111, 154, 44, 1651, 160, 363, 33, 32, 63, 44, 3782, 16, 2, 696, 9, 111, 154, 44, 1652, 33, 11, 28, 12, 1, 123, 13, 38, 586, 1650, 24, 32, 137, 72, 12, 13, 3, 84, 4, 13, 12, 13, 3, 84, 4, 13, 22, 37, 3, 13, 14, 180, 86, 179, 3, 104, 100, 14, 60, 55, 10, 14, 344, 37, 3, 768, 14, 27, 3, 24, 13, 14, 68, 9, 104, 50, 5, 325, 68, 43, 614, 22, 68, 14, 2512, 4, 18, 3783, 4, 18, 1653, 1150, 8, 67, 42, 1, 23, 57, 1053, 6, 1, 23, 1650, 41, 2, 694, 39, 236, 12, 44, 48, 642, 6, 12, 346, 614, 10, 111, 399, 12, 10, 9, 7, 1, 123, 13, 169, 588, 1, 123, 229, 2, 806, 4, 223, 1990, 158, 3784, 201, 223, 8, 12, 1, 3785, 4, 806, 8, 363, 11, 1, 1442, 123, 38, 235, 41, 72, 179, 3, 100, 2, 344, 223, 49, 179, 3, 32, 1654, 51, 47, 2, 806, 7, 122, 111, 399, 7, 101, 11, 28, 509, 99, 46, 509, 99, 115, 1, 31, 4, 768, 1151, 6, 917, 16, 15, 163, 11, 22, 37, 1, 38, 642, 16, 160, 1054, 51, 697, 2, 95, 27, 44, 1267, 55, 2, 51, 3, 52, 104, 331, 3786, 19, 17, 14, 364, 570, 1443, 146, 153, 1, 29, 12, 18, 570, 10, 364, 161, 148, 4, 35, 1655, 3, 52, 9, 54, 46, 8, 2, 1656, 547, 63, 9, 268, 1, 45, 3787, 92, 92, 171, 141, 243, 95, 6, 141, 51, 1, 45, 1267, 9, 370, 1, 361, 3788, 3789, 491, 6, 45, 130, 34, 918, 11, 42, 3, 179, 133, 3, 1268, 2, 327, 3, 229, 80, 280, 7, 43, 275, 1444, 4, 35, 27, 3, 123, 698, 1657, 49, 3, 123, 698, 231, 49, 4, 45, 130, 4, 18, 353, 28, 643, 40, 27, 3, 179, 12, 3, 152, 2, 3790, 571, 3, 1268, 55, 590, 18, 1981, 572, 807, 105, 55, 18, 235, 51, 18, 1269, 51, 18, 510, 51, 28, 9, 11, 42, 19, 275, 238, 1, 19, 275, 919, 1, 42, 19, 275, 238, 1, 19, 275, 3791, 1, 11, 808, 47, 15, 353, 6, 438, 9, 301, 6, 53, 153, 30, 133, 34, 18, 67, 30, 661, 91, 134, 30, 133, 34, 79, 57, 57, 344, 920, 3, 84, 4, 45, 117, 118, 552, 82, 35, 2, 857, 697, 7, 51, 24, 1270, 35, 135, 96, 16, 2, 347, 42, 30, 133, 170, 66, 165, 42, 3, 459, 2, 570, 56, 1152, 3792, 286, 111, 161, 16, 6, 919, 35, 1991, 18, 375, 809, 7, 2513, 28, 1992, 133, 51, 83, 979, 4, 491, 733, 11, 167, 157, 16, 80, 2514, 1, 275, 38, 1441, 28, 509, 99, 115, 509, 99, 107, 10, 50, 250, 1, 82, 157, 5, 51, 5, 667, 51, 11, 980, 44, 133, 34, 5, 920, 282, 8, 212, 153, 1, 29, 12, 159, 30, 70, 74, 34, 14, 474, 920, 6, 3, 460, 384, 699, 3, 667, 9, 9, 10, 72, 40, 3, 981, 7, 28, 21, 5, 57, 76, 3793, 1, 123, 3794, 15, 665, 20, 1440, 588, 16, 1052, 51, 3, 238, 7, 1, 37, 529, 1993, 74, 427, 6, 45, 162, 118, 427, 11, 112, 53, 30, 89, 4, 296, 80, 1445, 26, 3795, 615, 40, 282, 8, 35, 644, 2515, 32, 921, 396, 6, 396, 6, 396, 34, 9, 3, 68, 53, 72, 30, 70, 296, 14, 1445, 30, 70, 700, 77, 80, 334, 30, 70, 296, 14, 1445, 30, 70, 667, 9, 16, 80, 334, 1, 23, 490, 15, 3796, 667, 93, 16, 5, 361, 51, 361, 1271, 8, 51, 530, 4, 106, 9, 69, 34, 6, 34, 6, 34, 6, 1994, 34, 6, 56, 236, 12, 1, 24, 667, 6, 56, 1, 121, 8, 1, 922, 72, 643, 3, 88, 667, 1272, 7, 1658, 3797, 16, 6, 56, 1, 1994, 34, 207, 95, 207, 95, 207, 95, 530, 1, 29, 12, 159, 30, 70, 45, 14, 118, 11, 82, 9, 5, 51, 1271, 82, 9, 5, 2516, 6, 1, 61, 62, 1, 61, 122, 45, 85, 48, 118, 16, 5, 95, 124, 12, 98, 43, 52, 11, 73, 1, 69, 28, 22, 1, 491, 733, 17, 7, 810, 38, 586, 1650, 42, 9, 255, 4, 2, 694, 7, 1, 31, 33, 768, 917, 24, 106, 43, 919, 1, 1268, 2, 327, 303, 34, 2, 767, 303, 220, 2, 767, 32, 74, 169, 9, 370, 32, 13, 7, 99, 107, 78, 82, 157, 5, 51, 3798, 1, 74, 6, 667, 6, 1, 178, 4, 204, 14, 666, 370, 1, 80, 334, 240, 51, 37, 1, 13, 9, 16, 1995, 297, 645, 297, 1446, 297, 1, 37, 74, 5, 75, 427, 124, 1, 52, 116, 2, 85, 5, 75, 8, 43, 23, 378, 1996, 50, 279, 34, 22, 4, 1997, 436, 450, 923, 22, 13, 1, 3799, 157, 47, 15, 3800, 15, 67, 34, 436, 450, 27, 28, 12, 1, 31, 4, 29, 264, 16, 2, 3, 858, 2517, 6, 106, 35, 29, 13, 1, 123, 189, 48, 41, 246, 13, 1, 123, 189, 22, 3, 398, 18, 1055, 49, 22, 19, 398, 18, 553, 338, 1273, 1998, 1, 2, 98, 699, 240, 51, 156, 62, 1, 16, 18, 924], [10, 9, 554, 4, 222, 475, 8, 2518, 1659, 15, 1447, 81, 112, 62, 116, 2, 298, 8, 14, 172, 30, 70, 2519, 4, 1, 78, 20, 57, 554, 159, 36, 23, 70, 148, 41, 269, 379, 3, 17, 734, 2520, 35, 18, 2521, 1999, 8, 436, 450, 6, 734, 2522, 55, 18, 436, 450, 982, 246, 11, 27, 1, 62, 73, 22, 30, 1660, 65, 34, 246, 22, 36, 400, 66, 16, 2, 646, 8, 14, 202, 36, 400, 66, 317, 120, 415, 39, 369, 2, 298, 8, 14, 202, 175, 70, 511, 5, 215, 415, 78, 127, 171, 856, 26, 250, 20, 63, 8, 2523, 132, 72, 11, 83, 10, 89, 4, 1274, 71, 369, 71, 80, 102, 136, 2000, 35, 34, 79, 8, 119, 269, 2524, 126, 216, 100, 14, 26, 5, 186, 186, 51, 11, 170, 2, 1661, 2, 2525, 3, 29, 7, 20, 11, 216, 47, 35, 26, 11, 186, 20, 25, 2001, 2526, 40, 87, 734, 26, 348, 269, 10, 5, 181, 96, 26, 1, 33, 97, 20, 5, 181, 288, 11, 83, 88, 369, 137, 340, 34, 15, 2002, 39, 177, 3, 69, 125, 2, 440, 2527, 22, 4, 229, 182, 380, 112, 32, 1051, 12, 269, 10, 63, 3, 145, 98, 43, 19, 45, 1662, 12, 269, 10, 33, 19, 52, 380, 451, 20, 41, 451, 33, 6, 36, 640, 3, 640, 14, 5, 75, 94, 140, 30, 21, 5, 1663, 33, 18, 633, 10, 21, 7, 2528, 3, 179, 21, 57, 1275, 81, 20, 21, 41, 7, 269, 20, 41, 411, 2, 85, 3, 1051, 269, 10, 411, 16, 735, 72, 411, 16, 735, 49, 411, 26, 2003, 33, 1, 37, 459, 282, 8, 324, 15, 1664, 318, 44, 324, 15, 1139, 318, 16, 735, 4, 1665, 2529, 6, 925, 190, 4, 50, 5, 410, 1276, 4, 13, 5, 472, 4, 50, 5, 637, 169, 9, 166, 38, 169, 512, 7, 1, 166, 17, 28, 55, 7, 269, 10, 11, 27, 20, 2530, 268, 9, 10, 41, 590, 20, 21, 41, 451, 20, 21, 41, 7, 11, 24, 38, 2531, 2, 335, 1056, 8, 451, 381, 3, 2532, 633, 2533, 3, 54, 16, 247, 304, 40, 9, 111, 384, 35, 66, 527, 2534, 274, 475, 6, 475, 8, 1666, 18, 417, 33, 734, 160, 340, 11, 3, 68, 53, 3, 62, 5, 75, 16, 2, 246, 2535, 43, 19, 24, 183, 29, 12, 269, 1277, 22, 4, 1057, 6, 22, 122, 2, 2536, 8, 269, 22, 177, 160, 983, 49, 232, 452, 8, 2, 67, 9, 55, 419, 227, 4, 241, 8, 2537, 272, 1664, 6, 272, 249, 668, 11, 22, 68, 190, 3, 68, 53, 22, 68, 19, 1058, 110, 2538, 209, 66, 5, 641, 8, 110, 2539, 2, 276, 114, 312, 4, 1444, 155, 735, 3, 31, 1, 4, 52, 41, 269, 381, 170, 43, 166, 52, 94, 129, 7, 154, 9, 10, 2, 318, 34, 2, 1448, 20, 21, 7, 141, 231, 1, 555, 77, 20, 269, 141, 1448, 7, 1, 229, 28, 269, 141, 436, 450, 984, 7, 1, 13, 20, 269, 104, 5, 172, 33, 5, 172, 1449, 2540, 5, 172, 294, 1450, 28, 269, 859, 7, 1, 62, 28, 269, 11, 232, 28, 1667, 47, 2541, 5, 57, 736, 978, 34, 5, 2542, 978, 4, 35, 28, 269, 11, 1, 52, 41, 5, 75, 8, 2543, 67, 1278, 94, 30, 21, 5, 769, 20, 21, 41, 7, 40, 1, 37, 549, 769, 1, 37, 2004, 769, 40, 2, 319, 2544, 9, 255, 4, 67, 10, 1, 24, 17, 2545, 8, 12, 269, 10, 63, 28, 12, 926, 237, 28, 12, 1668, 15, 237, 6, 548, 1, 37, 17, 266, 2, 135, 237, 40, 2, 85, 7, 1, 296, 1, 808, 1, 1626, 15, 233, 420, 46, 420, 61, 1149, 127, 120, 2, 1279, 135, 237, 47, 5, 143, 420, 1, 61, 229, 5, 215, 289, 3, 158, 52, 8, 14, 106, 35, 82, 1, 5, 1669, 52, 8, 2546, 2005, 591, 811, 72, 591, 811, 2, 325, 456, 5, 46, 591, 2547, 5, 371, 591, 811, 2, 193, 5, 371, 171, 325, 10, 2, 2548, 34, 2, 927, 8, 616, 11, 3, 31, 1, 4, 1451, 9, 25, 7, 32, 116, 170, 42, 1, 210, 269, 30, 21, 212, 1, 17, 4, 38, 5, 860, 769, 40, 116, 333, 79, 1280, 1670, 1, 37, 50, 79, 376, 770, 87, 2, 184, 219, 87, 2, 928, 87, 2, 152, 4, 402, 47, 2, 135, 362, 8, 1153, 2, 135, 362, 8, 58, 2, 135, 362, 8, 1154, 669, 39, 44, 203, 115, 107, 171, 48, 363, 36, 62, 14, 5, 75, 16, 436, 450, 63, 175, 100, 736, 1059, 33, 6, 734, 728, 35, 4, 918, 192, 7, 2, 135, 96, 40, 36, 766, 2, 420, 36, 766, 2, 184, 219, 79, 2549, 2550, 669, 175, 203, 85, 48, 363, 33, 3, 470, 38, 1671, 4, 617, 93, 63, 36, 13, 7, 5, 75, 531, 1281, 573, 2551, 317, 24, 38, 701, 4, 617, 11, 317, 295, 617, 15, 1672, 6, 20, 21, 41, 985, 146, 94, 3, 29, 12, 208, 263, 1, 24, 29, 3, 226, 24, 29, 33, 32, 63, 126, 1452, 40, 170, 1, 136, 2552, 2553, 41, 361, 93, 6, 28, 5, 182, 96, 39, 41, 2, 485, 130, 56, 42, 3, 54, 100, 269, 175, 70, 670, 929, 33, 2554, 2, 1282, 861, 2, 1673, 11, 36, 68, 555, 77, 112, 53, 4, 5, 2555, 532, 120, 670, 929, 1674, 76, 568, 616, 6, 735, 6, 56, 532, 120, 4, 14, 493, 532, 120, 4, 7, 493, 6, 986, 62, 12, 121, 8, 2556, 36, 45, 9, 68, 90, 25, 671, 6, 2557, 36, 29, 2, 363, 40, 39, 47, 485, 175, 2558, 47, 1283, 1, 29, 266, 164, 592, 11, 101, 1453, 11, 452, 8, 272, 5, 76, 769, 10, 2006, 1, 6, 3, 36, 23, 21, 2, 233, 1284, 15, 2007, 2, 233, 1284, 106, 64, 151, 1, 27, 15, 228, 208, 46, 76, 96, 7, 126, 372, 66, 1, 531, 1281, 573, 10, 170, 36, 1641, 12, 104, 1, 295, 984, 16, 2, 2008, 6, 986, 2009, 2010, 7, 125, 244, 294, 862, 125, 12, 175, 100, 122, 177, 36, 104, 69, 125, 14, 403, 28, 5, 57, 76, 428, 27, 1, 23, 21, 11, 250, 41, 22, 13, 3, 45, 345, 47, 14, 22, 37, 3, 771, 269, 125, 18, 67, 156, 82, 1, 5, 57, 224, 40, 218, 510, 439, 65, 5, 51, 4, 148, 4, 79, 8, 15, 263, 259, 72, 6, 1, 122, 148, 4, 64, 6, 1, 37, 82, 64, 5, 144, 376, 2011, 6, 53, 153, 30, 32, 100, 79, 772, 41, 18, 260, 3, 123, 13, 79, 233, 1675, 44, 18, 263, 6, 98, 2012, 259, 37, 3, 17, 213, 297, 8, 15, 51, 6, 27, 19, 13, 1, 37, 82, 64, 79, 930, 2559, 2560, 49, 169, 9, 10, 111, 183, 399, 12, 9, 10, 6, 1, 148, 47, 64, 6, 1, 137, 64, 340, 25, 153, 1, 29, 177, 1, 13, 2561, 244, 260, 12, 54, 15, 194, 33, 86, 195, 1, 663, 355, 6, 86, 13, 1, 491, 47, 355, 6, 19, 88, 151, 1, 55, 119, 93, 6, 12, 1, 123, 13, 1, 123, 1060, 9, 137, 26, 110, 1454, 1, 1060, 9, 6, 14, 10, 11, 328, 1, 90, 12, 19, 53, 6, 1, 303, 9, 125, 380, 11, 112, 53, 82, 35, 80, 185, 82, 35, 80, 185, 8, 91, 7, 2562, 41, 156, 303, 11, 112, 53, 32, 53, 44, 147, 4, 5, 310, 97, 25, 94, 3, 197, 238, 160, 863, 4, 18, 2013, 30, 183, 1285, 2014, 863, 6, 259, 3, 113, 4, 119, 2563, 6, 3, 148, 4, 5, 335, 2564, 43, 40, 572, 8, 64, 183, 352, 155, 72, 11, 863, 55, 7, 11, 266, 28, 5, 533, 7, 19, 17, 112, 53, 1, 17, 5, 237, 7, 1676, 110, 194, 1286, 9, 61, 38, 5, 2015, 928, 9, 61, 38, 12, 3, 152, 46, 8, 117, 2565, 1677, 5, 2566, 428, 22, 4, 987, 1286, 556, 48, 2567, 15, 67, 374, 1678, 119, 1155, 1679, 494, 33, 73, 1, 17, 5, 928, 3, 68, 264, 9, 3, 68, 264, 9, 1, 62, 12, 30, 147, 41, 11, 1, 90, 266, 12, 19, 53, 6, 303, 9, 125, 15, 380, 1, 13, 7, 26, 5, 99, 8, 259, 1, 23, 76, 4, 69, 62, 22, 328, 9, 10, 20, 21, 71, 2016, 71, 1, 52, 33, 19, 88, 151, 1, 15, 259, 19, 31, 4, 142, 66, 1, 40, 12, 19, 123, 29, 10, 2, 1680, 7, 1, 1156, 114, 89, 155, 19, 31, 2, 1680, 7, 15, 237, 6, 2568, 132, 64, 495, 110, 194, 11, 112, 1681, 7, 4, 403, 99, 46, 381, 159, 3, 123, 326, 1, 440, 2569, 1, 37, 90, 141, 243, 51, 1, 296, 380, 1, 69, 155, 119, 1157, 3, 534, 1, 116, 2, 298, 8, 119, 440, 1157, 15, 380, 68, 38, 11, 101, 48, 224, 11, 101, 48, 634, 11, 403, 46, 6, 7, 10, 1429, 15, 476, 310, 14, 10, 2, 98, 344, 452, 381, 98, 43, 42, 19, 13, 269, 3, 702, 4, 50, 14, 365, 44, 11, 864, 1, 303, 34, 15, 767, 6, 1, 209, 2570, 59, 1, 13, 21, 13, 7, 1, 84, 4, 103, 210, 865, 210, 131, 15, 476, 310, 10, 39, 2, 85, 3, 238, 476, 259, 10, 107, 93, 99, 46, 15, 476, 310, 19, 17, 5, 84, 26, 15, 237, 72, 19, 122, 84, 9, 11, 27, 3, 179, 5, 2571, 27, 44, 312, 4, 222, 35, 2572, 36, 113, 5, 194, 134, 33, 1, 221, 222, 1682, 4, 5, 1682, 1683, 11, 3, 176, 17, 5, 84, 5, 31, 26, 15, 237, 28, 99, 46, 99, 115, 20, 3, 17, 2, 647, 4, 142, 15, 237, 11, 3, 31, 9, 40, 136, 3, 37, 198, 26, 9, 6, 99, 107, 10, 3, 17, 2, 1455, 4, 2573, 237, 49, 548, 11, 27, 3, 179, 306, 91, 4, 112, 53, 5, 725, 6, 375, 6, 30, 201, 147, 4, 2, 725, 40, 183, 20, 2, 375, 7, 284, 2, 637, 7, 10, 21, 76, 11, 20, 19, 17, 2, 979, 6, 691, 19, 17, 2, 647, 6, 19, 17, 2, 1455, 28, 2, 476, 310, 39, 262, 1, 29, 14, 131, 15, 476, 310, 10, 112, 53, 47, 104, 553, 105, 11, 101, 2574, 7, 36, 37, 13, 2017, 47, 9, 61, 38, 15, 1998, 9, 61, 38, 1158, 1, 1635, 4, 9, 61, 38, 15, 535, 73, 23, 648, 8, 1684, 648, 8, 2575, 1159, 648, 8, 812, 1, 37, 13, 4, 866, 262, 1, 29, 266, 131, 15, 866, 404, 10, 39, 1, 69, 6, 148, 4, 64, 16, 15, 380, 46, 34, 2576, 14, 6, 28, 12, 1, 13, 3, 145, 76, 380, 10, 806, 772, 6, 223, 451, 11, 27, 30, 70, 290, 5, 251, 170, 107, 671, 5, 251, 133, 34, 380, 133, 34, 1675, 1, 176, 290, 25, 115, 107, 2018, 100, 772, 177, 1, 296, 5, 243, 241, 1, 176, 17, 5, 57, 1053, 368, 266, 12, 2, 228, 1277, 55, 119, 93, 177, 1, 296, 5, 243, 241, 3, 52, 207, 1456, 438, 531, 1281, 573, 7, 1, 931, 2, 138, 95, 54, 1, 2577, 52, 41, 131, 7, 476, 310, 1277, 7, 310, 2578, 6, 183, 2579, 147, 4, 64, 46, 34, 46, 25, 27, 1, 23, 32, 644, 227, 147, 4, 64, 1685, 649, 24, 178, 4, 128, 57, 206, 2580, 2581, 318, 32, 1685, 2582, 27, 44, 183, 312, 4, 148, 47, 64, 6, 1, 123, 148, 4, 64, 34, 5, 46, 34, 46, 1160, 33, 25, 33, 39, 30, 2019, 47, 1, 60, 160, 1054, 51, 15, 1686, 49, 15, 2583, 15, 441, 19, 23, 703, 15, 380, 19, 23, 366, 15, 172, 116, 1287, 666, 11, 105, 5, 46, 34, 46, 2020, 11, 30, 147, 4, 1, 30, 21, 147, 71, 27, 30, 2584, 5, 813, 49, 215, 43, 30, 21, 147, 4, 1158, 28, 523, 531, 28, 1687, 143, 40, 42, 9, 255, 4, 380, 1, 123, 38, 57, 442, 1, 123, 38, 46, 34, 46, 11, 1457, 39, 1, 29, 15, 310, 6, 3, 61, 151, 1, 2, 362, 8, 58, 346, 2585, 16, 670, 1288, 4, 22, 1688, 210, 15, 259, 156, 53, 7, 46, 48, 51, 2, 362, 8, 58, 1, 2586, 16, 670, 1288, 4, 22, 1688, 210, 15, 259, 1, 29, 105, 536, 7, 867, 7, 2, 331, 2, 67, 1278, 19, 17, 14, 368, 94, 30, 70, 17, 14, 2021, 3, 17, 14, 2587, 30, 11, 864, 41, 9, 19, 90, 9, 4, 2, 461, 585, 704, 5, 477, 63, 19, 24, 210, 110, 476, 310, 20, 21, 265, 4, 53, 153, 18, 2588, 672, 9, 18, 375, 672, 9, 19, 23, 21, 2, 46, 28, 410, 11, 56, 12, 68, 1, 53, 42, 43, 2589, 53, 81, 385, 10, 18, 476, 310, 3, 123, 222, 4, 385, 81, 33, 73, 20, 5, 206, 365, 9, 37, 21, 38, 9, 37, 21, 38, 104, 260, 71, 206, 71, 1637, 104, 260, 71, 206, 71, 25, 53, 1161, 19, 2590, 475, 8, 43, 1161, 275, 53, 1061, 10, 18, 310, 59, 1, 17, 1161, 1, 136, 17, 335, 2022, 33, 1, 17, 866, 19, 55, 17, 143, 2591, 11, 59, 46, 37, 53, 7, 1061, 10, 110, 310, 982, 26, 376, 67, 49, 104, 2592, 2593, 67, 1, 221, 1289, 9, 227, 57, 101, 1289, 9, 227, 63, 2, 48, 1, 37, 1289, 9, 227, 2, 48, 2594, 37, 50, 15, 420, 6, 2, 429, 46, 8, 2, 263, 2595, 1, 61, 45, 6, 3, 1636, 14, 66, 5, 287, 814, 83, 108, 112, 53, 1, 17, 80, 368, 1, 17, 80, 228, 1, 123, 617, 9, 77, 83, 108, 1458, 15, 866, 404, 10, 1, 593, 77, 47, 15, 866, 404, 1, 418, 15, 228, 6, 1, 305, 9, 4, 64, 153, 1, 29, 12, 698, 77, 14, 478, 26, 35, 33, 6, 27, 19, 53, 27, 19, 249, 2, 478, 6, 19, 53, 4, 1, 94, 14, 10, 76, 97, 14, 405, 76, 15, 478, 1162, 9, 268, 20, 59, 76, 72, 94, 97, 3, 52, 14, 988, 569, 462, 3, 52, 27, 1, 17, 14, 3, 88, 59, 28, 59, 76, 2, 1689, 1, 31, 10, 19, 249, 15, 478, 22, 37, 3, 142, 79, 214, 18, 211, 277, 3, 123, 142, 79, 28, 42, 1, 29, 1, 113, 91, 618, 1, 84, 2, 386, 1689, 63, 43, 1459, 47, 110, 1460, 24, 673, 4, 32, 12, 19, 53, 285, 12, 19, 13, 19, 1459, 47, 110, 1460, 2, 429, 19, 167, 79, 58, 650, 72, 126, 113, 91, 134, 177, 7, 20, 55, 32, 25, 2023, 548, 33, 11, 28, 99, 46, 772, 528, 2024, 15, 476, 310, 403, 99, 115, 6, 7, 10, 229, 80, 479, 228, 5, 634, 228, 14, 10, 506, 46, 8, 2, 2596, 1157, 16, 2, 1062, 1690, 63, 1, 139, 60, 98, 536, 2, 319, 2597, 19, 868, 2, 135, 71, 385, 293, 110, 1691, 21, 57, 634, 94, 1, 29, 12, 14, 10, 12, 18, 2598, 14, 10, 989, 12, 36, 13, 71, 81, 87, 30, 5, 144, 187, 180, 87, 30, 144, 187, 1063, 40, 73, 10, 21, 5, 932, 2599, 11, 47, 12, 1, 13, 1, 221, 52, 41, 22, 2600, 50, 15, 228, 71, 634, 71, 554, 3, 54, 147, 47, 46, 8, 244, 1692, 6, 83, 54, 378, 35, 81, 140, 13, 1, 145, 12, 10, 48, 344, 2, 102, 49, 2, 420, 11, 2, 404, 49, 2, 420, 3, 53, 374, 5, 990, 2, 404, 83, 108, 86, 20, 57, 218, 3, 336, 17, 2, 2025, 420, 40, 3, 1693, 9, 4, 2, 349, 43, 20, 21, 70, 74, 2, 2026, 9, 111, 74, 33, 2, 138, 95, 36, 291, 32, 1461, 387, 933, 36, 291, 333, 934, 33, 97, 39, 734, 2027, 1694, 2601, 6, 55, 7, 111, 25, 1695, 11, 101, 21, 196, 101, 21, 196, 101, 11, 30, 312, 4, 2602, 4, 935, 1695, 11, 3, 61, 17, 2, 182, 2603, 2604, 6, 182, 420, 14, 10, 618, 168, 40, 258, 25, 3, 24, 29, 11, 20, 2, 33, 420, 40, 2, 349, 404, 11, 9, 111, 74, 11, 42, 9, 255, 4, 228, 1, 17, 4, 52, 41, 12, 2028, 7, 15, 102, 865, 691, 33, 12, 10, 9, 7, 114, 2029, 26, 49, 12, 533, 12, 1290, 13, 19, 17, 19, 32, 45, 2605, 1462, 8, 7, 11, 42, 1, 37, 161, 16, 47, 80, 2606, 11, 479, 20, 328, 4, 222, 16, 557, 5, 182, 228, 1, 37, 53, 558, 6, 9, 88, 226, 222, 1, 24, 84, 4, 128, 71, 92, 318, 11, 106, 35, 82, 1, 2, 453, 185, 112, 53, 3, 53, 734, 214, 5, 371, 591, 811, 37, 1, 82, 35, 127, 16, 1163, 8, 5, 371, 289, 659, 33, 82, 35, 127, 537, 156, 82, 1, 5, 371, 289, 33, 134, 97, 3, 68, 804, 13, 7, 7, 10, 80, 479, 228, 97, 33, 73, 12, 179, 3, 100, 73, 10, 2607, 58, 60, 5, 869, 11, 27, 44, 306, 160, 121, 8, 67, 2608, 2609, 160, 228, 7, 728, 43, 4, 50, 58, 773, 58, 49, 936, 2, 1056, 8, 306, 58, 60, 5, 869, 290, 1463, 47, 35, 30, 70, 326, 1, 22, 4, 50, 2030, 33, 112, 53, 185, 43, 131, 2610, 1064, 937, 153, 290, 532, 120, 34, 14, 574, 30, 70, 326, 1, 22, 4, 556, 127, 120, 5, 251, 16, 2611, 109, 113, 9, 94, 594, 28, 532, 120, 3, 61, 50, 127, 120, 5, 251, 28, 59, 1696, 28, 306, 58, 60, 5, 869, 28, 80, 479, 228, 39, 87, 44, 21, 16, 2, 1065, 857, 87, 1, 222, 1066, 815, 22, 13, 1, 13, 14, 105, 11, 92, 559, 87, 15, 479, 228, 2031, 252, 213, 95, 1464, 27, 1, 17, 401, 117, 2612, 19, 17, 117, 2613, 178, 26, 213, 253, 62, 22, 1, 25, 9, 28, 80, 185, 49, 5, 1291, 320, 28, 136, 50, 9, 479, 49, 1, 538, 361, 1697, 4, 50, 9, 479, 156, 151, 1, 5, 182, 388, 11, 46, 51, 92, 150, 2614, 54, 991, 933, 366, 693, 33, 6, 3, 737, 14, 859, 32, 2615, 65, 3, 173, 366, 2616, 71, 1, 29, 6, 14, 430, 258, 2617, 83, 191, 5, 2618, 8, 2619, 2, 2032, 6, 258, 1465, 9, 47, 5, 443, 594, 6, 30, 25, 14, 10, 674, 659, 12, 10, 14, 83, 54, 147, 41, 22, 2620, 2, 443, 10, 3, 108, 97, 28, 674, 6, 83, 774, 2, 443, 6, 56, 83, 774, 122, 5, 37, 47, 2, 443, 594, 30, 25, 1292, 283, 14, 10, 674, 3, 24, 29, 22, 30, 70, 128, 9, 40, 20, 674, 11, 3, 54, 366, 859, 6, 83, 54, 147, 6, 56, 105, 5, 75, 8, 43, 449, 34, 2, 2621, 5, 2622, 324, 14, 443, 2623, 55, 695, 8, 1140, 19, 128, 14, 443, 6, 56, 83, 108, 81, 1, 29, 12, 21, 32, 14, 42, 1, 142, 9, 159, 1, 24, 32, 45, 46, 443, 1, 45, 115, 443, 30, 25, 1292, 477, 33, 3, 29, 14, 10, 618, 6, 56, 83, 419, 77, 575, 337, 14, 10, 2, 206, 443, 40, 12, 41, 138, 376, 93, 6, 56, 1, 45, 14, 443, 6, 56, 1, 45, 14, 443, 6, 56, 1, 45, 14, 443, 6, 56, 177, 1, 29, 2624, 147, 41, 25, 223, 307, 143, 938, 6, 30, 25, 14, 10, 508, 14, 10, 618, 177, 2, 859, 3, 24, 84, 5, 443, 3, 24, 84, 5, 443, 40, 278, 20, 11, 539, 6, 11, 674, 6, 56, 83, 32, 2625, 2, 992, 6, 53, 27, 1, 496, 454, 2, 240, 149, 297, 1, 24, 45, 119, 223, 938, 36, 70, 555, 1, 115, 1698, 8, 938, 659, 28, 9, 30, 118, 33, 447, 2, 99, 152, 1466, 6, 142, 7, 10, 80, 479, 228, 42, 2, 1691, 11, 479, 1067, 419, 77, 2, 2033, 278, 3, 993, 2, 439, 8, 938, 3, 122, 2626, 2627, 30, 25, 12, 2, 477, 3, 84, 25, 1467, 2628, 8, 938, 26, 20, 32, 611, 20, 32, 1468, 40, 60, 7, 571, 9, 54, 11, 634, 11, 52, 41, 22, 1, 61, 128, 7, 87, 170, 20, 427, 994, 595, 129, 14, 595, 427, 619, 1, 45, 9, 816, 72, 28, 2629, 3, 24, 123, 705, 40, 1, 61, 136, 620, 41, 22, 1, 291, 2630, 595, 870, 7, 1, 198, 64, 1469, 4, 142, 48, 28, 33, 28, 33, 595, 27, 44, 5, 619, 497, 264, 34, 2, 406, 2631, 1, 37, 62, 267, 1, 37, 62, 7, 47, 619, 12, 19, 23, 100, 10, 1469, 19, 23, 1164, 1, 26, 1293, 871, 11, 7, 1, 37, 142, 48, 63, 60, 619, 1, 45, 15, 237, 427, 11, 52, 41, 12, 595, 129, 6, 22, 19, 1165, 1, 5, 218, 96, 479, 228, 6, 20, 39, 1699, 371, 537, 49, 11, 33, 97, 104, 42, 19, 2632, 2, 248, 43, 167, 2633, 335, 2634, 40, 385, 226, 463, 2, 1470, 248, 156, 151, 1, 207, 388, 3, 17, 401, 43, 39, 2635, 2636, 648, 8, 475, 8, 2637, 126, 401, 43, 6, 1, 68, 52, 619, 20, 25, 369, 20, 5, 2638, 96, 20, 5, 1293, 20, 21, 25, 5, 2639, 44, 389, 5, 371, 537, 1, 45, 79, 995, 595, 6, 2, 2034, 2, 2035, 55, 7, 40, 183, 44, 389, 32, 427, 994, 26, 2, 994, 11, 44, 389, 64, 11, 1, 37, 142, 48, 162, 1, 221, 210, 7, 3, 29, 43, 131, 23, 1471, 1, 68, 52, 25, 872, 109, 114, 587, 16, 25, 1294, 2640, 162, 25, 7, 1, 68, 21, 52, 19, 2641, 58, 34, 595, 6, 540, 114, 619, 308, 20, 2, 387, 96, 44, 70, 52, 41, 40, 4, 64, 114, 226, 619, 308, 114, 25, 19, 290, 110, 371, 289, 5, 202, 4, 64, 20, 5, 75, 8, 58, 40, 4, 38, 5, 619, 497, 381, 20, 11, 479, 20, 25, 5, 59, 1696, 42, 44, 5, 619, 497, 44, 235, 81, 1, 29, 30, 70, 198, 26, 2, 994, 738, 40, 30, 70, 45, 18, 162, 427, 1068, 3, 45, 55, 2642, 995, 3, 45, 595, 172, 3, 45, 4, 285, 395, 395, 6, 55, 14, 162, 6, 1, 356, 285, 9, 1, 356, 21, 285, 9, 40, 1, 25, 2, 1700, 1, 17, 739, 4, 9, 33, 1, 17, 739, 4, 9, 28, 479, 228], [69, 513, 222, 35, 14, 873, 159, 30, 70, 326, 1, 22, 4, 222, 232, 4, 469, 1655, 39, 42, 9, 255, 4, 306, 42, 9, 255, 4, 411, 73, 23, 11, 92, 2036, 6, 11, 92, 559, 159, 30, 70, 270, 47, 1, 107, 224, 379, 7, 1, 37, 128, 4, 222, 232, 4, 469, 2, 57, 103, 245, 10, 14, 22, 13, 1, 303, 91, 28, 5, 1701, 22, 13, 1, 222, 5, 237, 22, 13, 1, 222, 5, 548, 16, 775, 5, 2643, 404, 281, 99, 46, 210, 14, 43, 24, 142, 63, 8, 1067, 43, 142, 63, 8, 2644, 6, 19, 1472, 9, 47, 1067, 43, 142, 853, 34, 996, 6, 19, 1472, 47, 1067, 3, 31, 1, 4, 52, 8, 1473, 1, 31, 4, 142, 16, 15, 163, 9, 61, 38, 5, 525, 9, 61, 38, 5, 801, 9, 61, 38, 232, 3, 32, 31, 1, 4, 817, 7, 262, 1, 17, 7, 16, 15, 313, 3, 31, 1, 4, 137, 157, 14, 174, 86, 13, 1, 31, 4, 142, 9, 86, 13, 1, 31, 4, 142, 7, 474, 1295, 86, 13, 1, 31, 4, 230, 7, 1295, 86, 10, 7, 87, 20, 5, 181, 1296, 9, 1297, 76, 34, 1, 87, 20, 5, 181, 818, 87, 20, 5, 181, 525, 87, 20, 5, 181, 801, 87, 20, 7, 1069, 40, 86, 13, 1, 142, 9, 3, 31, 4, 3801, 5, 144, 187, 1474, 27, 1, 3802, 155, 2, 3803, 3, 52, 346, 1475, 1, 23, 410, 996, 87, 1, 142, 2, 1295, 63, 8, 3804, 1, 123, 50, 58, 49, 1, 123, 773, 58, 49, 87, 20, 63, 8, 2645, 7, 116, 410, 14, 1295, 20, 70, 132, 138, 43, 17, 1, 1702, 170, 73, 23, 417, 77, 73, 27, 1, 142, 14, 474, 237, 114, 70, 3805, 5, 361, 362, 4, 3806, 87, 1, 142, 63, 8, 2645, 87, 63, 8, 3807, 7, 27, 3, 24, 142, 14, 156, 139, 2646, 7, 27, 3, 24, 230, 14, 156, 139, 2646, 49, 87, 20, 874, 7, 27, 3, 24, 142, 14, 30, 70, 38, 939, 77, 3, 24, 123, 2647, 77, 87, 20, 80, 1476, 7, 1, 69, 34, 2, 1069, 15, 875, 4, 149, 299, 10, 1166, 1, 307, 508, 6, 1, 53, 94, 168, 3, 84, 79, 51, 220, 87, 44, 100, 9, 410, 9, 63, 8, 1476, 169, 117, 1070, 23, 117, 23, 57, 596, 1477, 1070, 11, 1, 142, 63, 8, 2644, 6, 1, 1472, 9, 47, 1067, 11, 52, 41, 42, 44, 306, 91, 4, 489, 23, 1, 32, 147, 41, 1703, 6, 995, 12, 337, 96, 68, 13, 26, 1, 49, 23, 1, 776, 117, 1477, 567, 2037, 3, 315, 46, 51, 3, 54, 16, 3808, 3809, 338, 2031, 57, 81, 1049, 3810, 2038, 247, 298, 16, 1071, 3, 444, 125, 2, 2038, 6, 3, 54, 1072, 116, 2, 2039, 1298, 3811, 6, 2, 3812, 3813, 35, 6, 53, 1073, 10, 73, 232, 3, 37, 132, 1, 47, 3, 108, 59, 30, 32, 3814, 301, 6, 83, 108, 13, 35, 5, 2648, 167, 14, 1296, 34, 39, 60, 2, 51, 3, 225, 2649, 5, 2039, 1298, 1296, 177, 3, 17, 5, 75, 8, 3815, 40, 3, 24, 17, 5, 2039, 1298, 1296, 83, 108, 13, 35, 5, 2648, 167, 14, 34, 3, 108, 55, 33, 3, 167, 9, 34, 83, 108, 22, 13, 1, 205, 81, 9, 560, 405, 76, 72, 136, 178, 14, 34, 167, 34, 14, 1478, 3, 108, 72, 28, 405, 674, 83, 108, 94, 9, 1297, 182, 83, 108, 1073, 23, 1, 5, 1167, 8, 1168, 777, 3, 108, 131, 819, 5, 1167, 8, 1168, 777, 25, 2040, 83, 108, 14, 1296, 33, 134, 14, 1478, 10, 2, 1279, 1296, 2, 1279, 135, 983, 7, 1168, 777, 3816, 16, 3817, 3818, 1, 29, 7, 3819, 42, 83, 54, 3820, 477, 9, 1297, 76, 33, 6, 177, 1, 29, 9, 3, 993, 2, 876, 307, 1478, 6, 20, 5, 75, 8, 58, 1299, 5, 75, 8, 58, 27, 1, 52, 41, 7, 12, 179, 3, 410, 30, 410, 996, 12, 30, 410, 10, 14, 30, 410, 42, 3, 1300, 14, 1478, 3, 205, 76, 71, 5, 1168, 777, 1167, 3, 205, 25, 1168, 777, 104, 3821, 3, 29, 8, 574, 20, 21, 1168, 777, 30, 21, 1168, 777, 40, 3822, 9, 370, 35, 73, 14, 10, 674, 7, 3, 1300, 2, 135, 1478, 2, 135, 854, 2, 135, 192, 56, 83, 65, 1301, 35, 34, 2, 876, 2650, 6, 2, 3823, 3824, 2, 335, 875, 3825, 28, 12, 30, 147, 41, 43, 142, 63, 8, 996, 6, 19, 1472, 9, 47, 1067, 1, 17, 4, 210, 7, 24, 32, 204, 15, 237, 24, 32, 204, 15, 997, 24, 204, 2, 1703, 6, 995, 52, 41, 12, 23, 117, 3826, 2037, 7, 44, 776, 99, 115, 43, 24, 142, 73, 85, 125, 91, 19, 142, 73, 85, 77, 8, 91, 9, 268, 43, 57, 596, 114, 410, 3827, 916, 5, 194, 19, 31, 2041, 19, 31, 4, 142, 73, 85, 77, 8, 7, 194, 43, 24, 142, 2, 706, 19, 31, 5, 2042, 34, 2, 1704, 11, 12, 10, 9, 7, 44, 998, 64, 495, 12, 194, 12, 10, 7, 96, 1, 17, 4, 210, 3, 158, 53, 2, 362, 8, 58, 7, 1, 50, 10, 16, 670, 1288, 4, 22, 877, 1, 3828, 404, 2651, 533, 2, 362, 8, 58, 7, 1, 50, 10, 16, 670, 1288, 10, 16, 22, 81, 22, 877, 1, 69, 22, 101, 1, 210, 15, 404, 2651, 533, 11, 1, 17, 4, 210, 12, 23, 2, 3829, 7, 43, 17, 6, 22, 37, 1, 132, 64, 2043, 79, 8, 7, 533, 11, 52, 41, 7, 99, 107, 43, 24, 142, 815, 6, 997, 19, 142, 597, 63, 42, 73, 23, 11, 92, 3830, 73, 16, 2, 404, 281, 34, 2, 485, 160, 237, 7, 1, 31, 73, 23, 648, 6, 648, 8, 3831, 22, 13, 1, 1479, 77, 22, 13, 1, 538, 996, 4, 5, 1701, 5, 873, 164, 2, 325, 456, 5, 820, 873, 25, 14, 49, 5, 1246, 3832, 3833, 1074, 1302, 2044, 2652, 3834, 3835, 873, 5, 1246, 873, 20, 2, 135, 873, 9, 191, 2, 135, 1679, 388, 42, 1, 538, 388, 4, 80, 1295, 669, 42, 1, 538, 2, 1074, 1302, 2044, 2, 3836, 388, 1169, 4, 5, 940, 4, 5, 3837, 9, 10, 127, 171, 48, 514, 9, 10, 5, 371, 171, 48, 514, 9, 10, 740, 171, 48, 514, 7, 474, 873, 55, 63, 8, 388, 9, 3838, 2, 135, 5, 820, 873, 1, 37, 296, 196, 40, 28, 2, 325, 11, 52, 41, 164, 2, 388, 22, 37, 1, 3839, 597, 125, 192, 7, 1, 13, 87, 20, 15, 3840, 388, 22, 195, 1, 45, 345, 86, 13, 1, 13, 12, 1, 13, 12, 41, 136, 597, 8, 15, 259, 126, 32, 1303, 5, 181, 246, 350, 1, 37, 264, 34, 2, 406, 239, 3, 167, 5, 181, 406, 16, 2, 3841, 1, 37, 698, 9, 77, 20, 2, 140, 394, 507, 1480, 34, 246, 9, 191, 254, 4, 13, 47, 2, 515, 7, 3, 326, 9, 191, 192, 4, 13, 47, 597, 47, 597, 66, 18, 487, 12, 19, 17, 372, 110, 1140, 110, 597, 9, 191, 254, 4, 13, 47, 35, 47, 2, 515, 7, 3, 541, 9, 191, 254, 4, 13, 47, 7, 40, 597, 20, 138, 664, 597, 138, 664, 359, 597, 11, 146, 23, 1, 324, 597, 16, 1, 233, 16, 15, 67, 22, 293, 37, 1, 128, 597, 315, 1481, 151, 597, 222, 1481, 151, 597, 222, 11, 267, 239, 151, 35, 853, 34, 119, 107, 379, 22, 88, 1, 222, 35, 14, 873, 69, 513, 267, 239, 6, 222, 35, 14, 873], [1075, 3842, 94, 11, 459, 3, 29, 22, 3843, 9, 61, 38, 42, 1, 3844, 621, 6, 741, 415, 15, 246, 350, 1, 23, 203, 345, 59, 46, 809, 131, 1, 23, 540, 6, 12, 1705, 639, 1, 1149, 1, 290, 55, 7, 51, 1269, 6, 3845, 6, 3846, 2045, 2, 279, 6, 44, 55, 864, 1, 778, 4, 246, 201, 5, 311, 43, 285, 9, 3, 315, 130, 56, 42, 3, 200, 741, 621, 6, 741, 3847, 3, 68, 778, 5, 172, 6, 3, 68, 3848, 3, 68, 3849, 5, 311, 171, 3850, 45, 5, 311, 48, 621, 11, 3, 29, 12, 20, 25, 42, 44, 779, 66, 2653, 6, 3, 29, 5, 75, 8, 18, 551, 7, 3, 3851, 851, 209, 15, 246, 350, 116, 2, 85, 27, 1, 209, 15, 246, 3852, 8, 1170, 18, 74, 267, 239, 6, 106, 35, 29, 3, 166, 32, 698, 77, 15, 246, 350, 11, 22, 13, 1, 398, 47, 741, 621, 6, 741, 415, 62, 16, 2, 2654, 288, 126, 118, 5, 99, 8, 3853, 105, 5, 3854, 7, 36, 148, 3855, 2, 2654, 288, 81, 22, 13, 1, 576, 5, 263, 306, 1482, 81, 20, 328, 4, 576, 5, 263, 306, 3856, 1, 390, 17, 5, 263, 1171, 33, 11, 414, 20, 328, 4, 398, 15, 246, 3857, 15, 246, 350, 390, 191, 5, 75, 8, 415, 6, 136, 44, 390, 3858, 56, 20, 328, 26, 15, 279, 4, 69, 2046, 49, 4, 45, 3859, 6, 45, 48, 3860, 42, 1, 390, 2655, 206, 246, 350, 40, 12, 13, 1, 13, 27, 44, 779, 66, 2653, 11, 159, 30, 70, 270, 532, 379, 47, 1, 27, 3, 291, 4, 209, 55, 256, 373, 622, 47, 741, 2047, 741, 415, 12, 23, 2, 532, 93, 7, 3, 68, 13, 11, 50, 250, 1, 491, 699, 2, 57, 298, 30, 70, 270, 46, 245, 47, 1, 7, 88, 3861, 415, 6, 3862, 15, 621, 23, 1, 1076, 112, 69, 246, 245, 99, 46, 153, 2656, 13, 1, 315, 12, 245, 99, 46, 10, 3, 145, 20, 128, 634, 1172, 1073, 33, 128, 634, 1172, 1, 24, 31, 4, 38, 1706, 46, 8, 2, 319, 3863, 1, 61, 2048, 71, 5, 3864, 4, 17, 1706, 1172, 78, 3, 29, 73, 23, 1173, 77, 73, 7, 19, 3865, 1172, 6, 540, 19, 226, 17, 475, 6, 3866, 2049, 27, 1, 23, 2657, 28, 5, 143, 388, 2657, 3867, 141, 243, 3868, 226, 191, 5, 736, 1170, 40, 26, 98, 43, 131, 23, 779, 66, 741, 2047, 741, 415, 1, 123, 17, 634, 3869, 15, 279, 63, 43, 23, 2658, 1, 19, 24, 29, 1, 540, 11, 106, 35, 82, 1, 79, 2050, 79, 821, 63, 3, 113, 345, 71, 5, 769, 315, 130, 56, 42, 3, 54, 100, 3870, 42, 3, 54, 451, 160, 121, 8, 1172, 160, 121, 8, 2659, 36, 152, 64, 7, 36, 800, 4, 50, 9, 391, 6, 46, 8, 2, 3871, 617, 10, 36, 137, 1483, 68, 14, 928, 74, 16, 5, 3872, 478, 78, 3, 29, 2660, 30, 18, 535, 3, 45, 7, 72, 40, 2660, 43, 23, 2661, 155, 2, 3873, 19, 37, 62, 72, 68, 14, 928, 38, 3874, 26, 43, 4, 249, 2662, 4, 238, 77, 48, 407, 11, 20, 2, 135, 96, 106, 35, 82, 1, 79, 1174, 2659, 49, 32, 79, 3875, 9, 255, 4, 1172, 99, 46, 22, 4, 22, 4, 10, 158, 5, 57, 57, 224, 3876, 43, 69, 34, 246, 19, 123, 238, 3877, 13, 3, 13, 91, 22, 4, 20, 5, 57, 57, 224, 1484, 46, 8, 18, 279, 7, 400, 121, 8, 3878, 22, 4, 50, 5, 813, 289, 5, 3879, 15, 2051, 11, 9, 191, 5, 534, 6, 136, 822, 64, 153, 3, 88, 189, 22, 4, 13, 91, 11, 22, 4, 10, 5, 932, 3880, 34, 246, 421, 9, 61, 38, 5, 2052, 8, 7, 25, 22, 3, 22, 3, 17, 118, 91, 207, 172, 7, 400, 2046, 26, 18, 350, 2053, 3, 999, 60, 2, 535, 8, 1175, 146, 3, 121, 3881, 18, 388, 12, 126, 118, 79, 8, 2, 1000, 126, 372, 11, 28, 207, 185, 207, 76, 185, 10, 379, 8, 379, 8, 11, 43, 123, 29, 33, 2656, 43, 123, 29, 43, 31, 4, 29, 1073, 19, 123, 29, 12, 23, 2, 379, 379, 8, 11, 185, 8, 46, 8, 18, 279, 2, 245, 4, 3882, 294, 28, 207, 185, 2, 245, 8, 49, 379, 8, 6, 27, 1, 17, 5, 1077, 99, 707, 49, 1304, 49, 532, 28, 104, 48, 224, 207, 185, 2054, 473, 928, 775, 71, 3, 17, 14, 172, 447, 24, 209, 5, 3883, 1, 285, 14, 49, 24, 209, 15, 246, 3884, 1, 285, 14, 20, 121, 8, 25, 5, 2054, 153, 24, 13, 7, 2055, 285, 14, 172, 1, 62, 22, 20, 57, 101, 1485, 1434, 49, 46, 48, 185, 6, 7, 10, 5, 928, 5, 3885, 10, 694, 1434, 185, 2, 98, 878, 2056, 16, 2, 288, 94, 28, 391, 1, 62, 7, 191, 5, 57, 474, 57, 2663, 57, 1077, 198, 220, 42, 15, 2057, 264, 34, 7, 172, 177, 19, 104, 3886, 7, 172, 19, 29, 266, 12, 19, 23, 89, 4, 45, 39, 42, 15, 350, 10, 376, 33, 42, 1, 17, 741, 621, 6, 741, 415, 42, 1, 128, 5, 1484, 25, 153, 18, 1305, 4, 2058, 585, 704, 5, 876, 63, 59, 46, 809, 131, 1, 23, 540, 33, 6, 262, 1, 17, 475, 8, 2049, 6, 415, 250, 18, 1305, 4, 2058, 15, 551, 31, 4, 29, 153, 12, 10, 89, 34, 3, 123, 29, 117, 3887, 473, 279, 1, 88, 45, 3888, 40, 16, 2, 646, 20, 101, 48, 3889, 45, 3890, 27, 1, 23, 21, 81, 1049, 11, 86, 21, 360, 5, 1273, 7, 2664, 390, 2658, 26, 33, 324, 22, 4, 324, 2054, 324, 379, 8, 33, 324, 117, 1174, 1172, 7, 85, 346, 398, 101, 101, 427, 246, 245, 99, 115, 3891, 64, 47, 5, 246, 1294, 52, 41, 15, 1707, 930, 33, 177, 9, 255, 77, 44, 55, 864, 2, 930, 260, 12, 195, 19, 13, 19, 2059, 5, 1294, 19, 82, 1, 79, 8, 2, 263, 1486, 66, 2, 3892, 44, 300, 1306, 42, 2, 930, 255, 77, 1, 176, 13, 2, 135, 96, 26, 15, 246, 350, 11, 1, 17, 15, 103, 51, 3893, 89, 4, 15, 350, 89, 4, 2, 2665, 8, 15, 350, 19, 61, 264, 34, 9, 6, 19, 61, 3894, 15, 350, 10, 41, 3895, 3896, 337, 234, 925, 2, 2666, 8, 1307, 83, 1308, 41, 86, 1, 84, 4, 82, 3897, 623, 4, 13, 91, 43, 84, 4, 29, 19, 84, 4, 17, 5, 623, 3898, 84, 4, 13, 9, 20, 21, 265, 4, 53, 153, 18, 639, 10, 2060, 18, 279, 23, 2060, 7, 1, 176, 598, 20, 21, 76, 265, 11, 16, 15, 1294, 151, 64, 131, 1, 23, 12, 44, 41, 22, 596, 1, 778, 86, 176, 19, 2667, 266, 12, 1, 31, 64, 4, 13, 39, 68, 9, 38, 1456, 27, 3, 82, 1, 79, 121, 8, 5, 3899, 15, 1294, 267, 239, 78, 134, 36, 69, 1, 61, 53, 91, 25, 14, 153, 18, 492, 10, 1708, 3, 179, 80, 486, 30, 5, 3900, 30, 5, 911, 3901, 169, 9, 166, 38, 3, 179, 5, 1708, 33, 42, 1, 598, 4, 18, 350, 1, 151, 64, 44, 3902, 1463, 2030, 3903, 12, 23, 2, 995, 86, 176, 36, 598, 153, 44, 70, 189, 48, 41, 14, 44, 70, 3904, 41, 7, 44, 70, 45, 14, 121, 8, 193, 1, 221, 151, 43, 7, 33, 6, 136, 151, 64, 141, 243, 341, 3, 778, 46, 172, 115, 279, 49, 141, 243, 3905, 6, 3906, 88, 778, 5, 172, 26, 1, 151, 64, 2, 1709, 8, 15, 3907, 19, 29, 12, 4, 1309, 6, 24, 516, 4, 151, 43, 266, 12, 1, 31, 2061, 13, 24, 1078, 63, 1, 17, 76, 639, 94, 2668, 675, 598, 59, 1, 221, 151, 64, 11, 151, 64, 153, 264, 2, 3908, 134, 598, 49, 264, 34, 2, 858, 73, 598, 4, 18, 246, 350, 159, 6, 50, 250, 1, 511, 2, 1710, 50, 250, 1, 303, 34, 2, 2062, 1, 113, 4, 151, 64, 12, 4, 13, 1, 113, 9, 245, 99, 107, 6, 7, 3909, 16, 173, 47, 15, 551, 21, 15, 639, 46, 8, 2, 319, 517, 5, 75, 8, 1173, 50, 19, 50, 279, 7, 19, 31, 4, 50, 282, 8, 3910, 7, 15, 551, 31, 1, 62, 20, 57, 328, 4, 516, 7, 105, 3911, 272, 542, 14, 366, 1, 1, 139, 60, 2, 2669, 65, 1, 139, 60, 2, 2063, 1, 139, 60, 2, 621, 1, 139, 60, 415, 6, 1, 3912, 32, 5, 2064, 81, 20, 21, 32, 5, 2064, 106, 35, 151, 1, 14, 542, 14, 105, 5, 276, 105, 5, 431, 272, 47, 1711, 996, 6, 3913, 225, 516, 7, 24, 316, 316, 1487, 15, 1167, 25, 5, 2064, 20, 57, 344, 6, 3, 52, 46, 8, 2, 3914, 18, 1488, 1712, 16, 2, 924, 195, 11, 81, 34, 246, 63, 20, 3915, 5, 20, 18, 551, 1, 3916, 5, 174, 6, 3, 464, 64, 3, 2670, 6, 3, 267, 7, 284, 5, 932, 325, 11, 1, 17, 4, 465, 41, 15, 551, 207, 96, 7, 1, 61, 13, 10, 71, 5, 2671, 71, 5, 1173, 1, 61, 82, 15, 551, 267, 5, 567, 4, 106, 64, 29, 6, 42, 1, 13, 7, 15, 1167, 131, 3917, 267, 68, 122, 45, 5, 1713, 7, 1, 3918, 64, 5, 567, 170, 3, 29, 42, 3, 249, 15, 2008, 3, 82, 1, 5, 567, 6, 18, 551, 44, 235, 10, 7, 183, 1, 140, 195, 1, 32, 82, 35, 5, 567, 78, 20, 183, 35, 3, 52, 160, 1173, 42, 19, 52, 114, 196, 3919, 114, 196, 1489, 6, 19, 59, 708, 1490, 3920, 551, 114, 21, 70, 387, 186, 246, 245, 99, 309, 17, 5, 2672, 16, 15, 172, 12, 129, 2672, 1479, 26, 152, 4, 402, 152, 4, 402, 1, 17, 4, 151, 15, 2057, 2673, 1, 31, 64, 4, 13, 13, 1, 31, 64, 4, 270, 15, 172, 13, 1, 31, 2061, 82, 1, 5, 2669, 65, 13, 1, 31, 2061, 267, 239, 34, 15, 172, 1, 17, 4, 151, 64, 266, 12, 4, 13, 225, 316, 1078, 1, 62, 46, 8, 2, 93, 7, 3, 195, 42, 3, 345, 3921, 2057, 1, 4, 264, 34, 2, 858, 239, 6, 3922, 18, 350, 3, 737, 5, 3923, 3924, 471, 8, 415, 7, 3, 45, 60, 103, 3, 257, 153, 27, 1, 173, 18, 639, 24, 1, 675, 598, 43, 24, 13, 7, 6, 73, 23, 92, 559, 1, 37, 13, 14, 73, 23, 92, 559, 1, 37, 2674, 5, 152, 4, 402, 185, 1, 37, 13, 9, 177, 697, 6, 278, 11, 16, 2, 646, 8, 15, 3925, 37, 53, 91, 25, 153, 27, 14, 10, 103, 51, 3926, 18, 172, 49, 14, 10, 2, 103, 51, 1, 23, 3927, 350, 50, 250, 1, 511, 2, 598, 858, 1, 61, 13, 91, 25, 7, 49, 16, 2, 2065, 33, 697, 15, 172, 1, 61, 53, 153, 27, 1, 31, 35, 4, 3928, 48, 41, 14, 1, 31, 35, 4, 270, 48, 41, 3929, 1, 31, 35, 4, 50, 48, 8, 14, 121, 8, 172, 50, 250, 1, 267, 239, 6, 153, 24, 516, 4, 598, 49, 1, 37, 136, 13, 9, 60, 2, 298, 8, 574, 24, 3930, 14, 1, 24, 123, 13, 9, 107, 309, 171, 28, 5, 187, 3931, 40, 60, 2, 298, 8, 15, 172, 1, 61, 53, 91, 3932, 24, 516, 4, 598, 4, 18, 350, 50, 250, 1, 511, 2, 598, 858, 1263, 264, 34, 2, 1710, 6, 303, 34, 2, 2062, 20, 57, 344, 7, 3933, 64, 4, 303, 34, 2, 2062, 9, 268, 7, 141, 243, 51, 1, 2059, 5, 172, 105, 5, 3934, 7, 19, 88, 62, 9, 34, 110, 2665, 2, 415, 1714, 11, 56, 19, 23, 48, 2066, 4, 264, 34, 15, 172, 11, 152, 4, 402, 246, 245, 99, 149, 6, 7, 10, 186, 3935, 3936, 742, 577, 2675, 3, 52, 98, 1173, 19, 82, 65, 196, 2676, 19, 778, 79, 279, 49, 19, 778, 5, 1715, 3937, 56, 19, 82, 65, 63, 19, 23, 212, 4, 1287, 59, 46, 10, 366, 18, 172, 30, 21, 203, 265, 621, 59, 267, 86, 3, 855, 11, 101, 51, 188, 119, 279, 3, 29, 22, 1, 205, 3, 29, 22, 3938, 9, 10, 42, 1, 778, 5, 2034, 1, 290, 55, 7, 51, 44, 3939, 453, 927, 8, 639, 6, 56, 59, 46, 3940, 172, 40, 1, 17, 4, 491, 1265, 1, 17, 4, 52, 7, 14, 10, 5, 186, 577, 941, 52, 8, 9, 71, 25, 44, 776, 5, 2067, 3941, 33, 16, 2, 646, 20, 57, 57, 1716, 6, 1, 321, 776, 6, 1, 321, 776, 40, 262, 1, 3942, 3943, 428, 262, 1, 69, 256, 2, 3944, 2, 3945, 192, 676, 11, 101, 427, 25, 14, 2067, 1310, 3, 226, 315, 12, 677, 35, 177, 498, 2, 3946, 621, 9, 677, 35, 498, 4, 45, 39, 3, 61, 45, 9, 16, 396, 86, 63, 8, 2, 2067, 1310, 3, 534, 1, 27, 1, 778, 115, 171, 5, 341, 282, 3947, 51, 15, 350, 88, 398, 427, 27, 1, 778, 107, 171, 5, 341, 282, 8, 115, 171, 15, 350, 88, 398, 104, 427, 18, 350, 3948, 2, 429, 3, 2048, 4, 5, 780, 778, 39, 30, 21, 212, 7, 1, 17, 4, 778, 5, 3949, 243, 95, 40, 7, 208, 7, 186, 577, 3950, 586, 3951, 742, 577, 2675, 13, 9, 186, 577, 52, 8, 14, 71, 5, 186, 577, 941, 44, 937, 44, 661, 80, 2068, 44, 661, 5, 1717, 9, 10, 586, 709, 9, 11, 117, 23, 2, 149, 379, 34, 22, 4, 398, 47, 741, 2047, 741, 415, 3, 17, 11, 92, 48, 379, 3, 123, 3952, 1, 16, 557, 30, 100, 5, 1176, 650, 1177, 5, 2677, 1177, 7, 1, 61, 2069, 447, 246, 379, 264, 2, 406, 134, 49, 134, 6, 45, 15, 518, 159, 1, 37, 1079, 35, 66, 2, 651, 8, 15, 230, 165, 146, 30, 70, 270, 47, 1, 85, 48, 379, 22, 13, 1, 398, 7, 350, 22, 13, 1, 3953, 246, 350, 22, 13, 1, 3954, 1080, 51, 587, 71, 5, 1173, 11, 264, 2, 406, 134, 49, 1311, 3, 88, 62, 1, 60, 2, 1177, 2678, 2679, 2678, 2679]]\n"
     ]
    }
   ],
   "source": [
    "max_words = 50000 # Max size of the dictionary\n",
    "tokenizer = Tokenizer(num_words=max_words)\n",
    "tokenizer.fit_on_texts(author.values)\n",
    "sequences = tokenizer.texts_to_sequences(author.values)\n",
    "print(sequences[:5])\n",
    "\n",
    "# Flatten the list of lists resulting from the tokenization. This will reduce the list\n",
    "# to one dimension, allowing us to apply the sliding window technique to predict the next word\n",
    "text = [item for sublist in sequences for item in sublist]\n",
    "vocab_size = len(tokenizer.word_index)"
   ]
  },
  {
   "cell_type": "code",
   "execution_count": 25,
   "metadata": {},
   "outputs": [],
   "source": [
    "# Flatten the list of lists resulting from the tokenization. This will reduce the list\n",
    "# to one dimension, allowing us to apply the sliding window technique to predict the next word\n",
    "text = [item for sublist in sequences for item in sublist]\n",
    "vocab_size = len(tokenizer.word_index)"
   ]
  },
  {
   "cell_type": "code",
   "execution_count": 26,
   "metadata": {},
   "outputs": [
    {
     "name": "stdout",
     "output_type": "stream",
     "text": [
      "('Vocabulary size in this corpus: ', 7125)\n"
     ]
    }
   ],
   "source": [
    "print('Vocabulary size in this corpus: ', vocab_size)"
   ]
  },
  {
   "cell_type": "code",
   "execution_count": 27,
   "metadata": {},
   "outputs": [],
   "source": [
    "# Training on 19 words to predict the 20th\n",
    "sentence_len = 20\n",
    "pred_len = 1\n",
    "train_len = sentence_len - pred_len\n",
    "seq = []\n",
    "# Sliding window to generate train data\n",
    "for i in range(len(text)-sentence_len):\n",
    "    seq.append(text[i:i+sentence_len])\n",
    "# Reverse dictionary to decode tokenized sequences back to words\n",
    "reverse_word_map = dict(map(reversed, tokenizer.word_index.items()))\n",
    "# Save tokenizer\n",
    "# dump(tok, open('tokenizer.pkl', 'wb'))k"
   ]
  },
  {
   "cell_type": "code",
   "execution_count": 28,
   "metadata": {},
   "outputs": [],
   "source": [
    "# Each row in seq is a 20 word long window. We append he first 19 words as the input to predict the 20th word\n",
    "trainX = []\n",
    "trainy = []\n",
    "for i in seq:\n",
    "    trainX.append(i[:train_len])\n",
    "    trainy.append(i[-1])"
   ]
  },
  {
   "cell_type": "code",
   "execution_count": null,
   "metadata": {},
   "outputs": [],
   "source": [
    "dump(trainX, open('trainX.pkl', 'wb'))\n",
    "dump(trainy, open('trainY.pkl', 'wb'))"
   ]
  },
  {
   "cell_type": "code",
   "execution_count": 29,
   "metadata": {},
   "outputs": [
    {
     "name": "stdout",
     "output_type": "stream",
     "text": [
      "data/author_values.pkl\r\n",
      "data/model_weights.hdf5\r\n",
      "data/my_youtube_video_ids.csv\r\n",
      "data/my_youtube_video_ids_with_transcript_text.csv\r\n",
      "data/Test Keras and TensorFlow Text Generation ANN Model with CoLab GPU.ipynb\r\n",
      "data/tokenizer.pkl\r\n",
      "data/trainX.pkl\r\n",
      "data/trainY.pkl\r\n",
      "data/youtube_video_ids_with_transcript_text_and_author.csv\r\n"
     ]
    }
   ],
   "source": [
    "!ls $DATA_DIRECTORY/*"
   ]
  },
  {
   "cell_type": "code",
   "execution_count": null,
   "metadata": {},
   "outputs": [],
   "source": []
  }
 ],
 "metadata": {
  "kernelspec": {
   "display_name": "Python 2",
   "language": "python",
   "name": "python2"
  },
  "language_info": {
   "codemirror_mode": {
    "name": "ipython",
    "version": 2
   },
   "file_extension": ".py",
   "mimetype": "text/x-python",
   "name": "python",
   "nbconvert_exporter": "python",
   "pygments_lexer": "ipython2",
   "version": "2.7.18"
  }
 },
 "nbformat": 4,
 "nbformat_minor": 2
}
